{
 "cells": [
  {
   "cell_type": "code",
   "execution_count": 1,
   "id": "614fc4e2-0e04-49b0-bf7c-05efee48933f",
   "metadata": {},
   "outputs": [],
   "source": [
    "from llama_index.readers.obsidian import ObsidianReader\n",
    "from llama_index.core.memory.chat_memory_buffer import MessageRole\n",
    "from llama_index.core import SimpleDirectoryReader, KnowledgeGraphIndex, VectorStoreIndex\n",
    "from llama_index.core.graph_stores import SimpleGraphStore\n",
    "from llama_index.core.storage.docstore import SimpleDocumentStore\n",
    "from llama_index.core import Document, PropertyGraphIndex\n",
    "from llama_index.core.storage.index_store import SimpleIndexStore\n",
    "from llama_index.core.vector_stores import SimpleVectorStore\n",
    "from llama_index.core import Settings\n",
    "from IPython.display import Markdown, display\n",
    "from llama_index.llms.ollama import Ollama\n",
    "from tqdm.notebook import tqdm\n",
    "import time\n",
    "import os\n",
    "from llama_index.core.llms import ChatMessage\n",
    "from llama_index.core import StorageContext\n",
    "from llama_index.llms.ollama import Ollama\n",
    "from llama_index.embeddings.ollama import OllamaEmbedding\n",
    "from llama_index.embeddings.huggingface import HuggingFaceEmbedding\n",
    "from llama_index.embeddings.openai import OpenAIEmbedding\n",
    "from llama_index.llms.openai import OpenAI\n",
    "from llama_index.core.memory import ChatMemoryBuffer\n",
    "import logging\n",
    "import sys\n",
    "import ipywidgets as widgets\n",
    "import json\n",
    "from llama_index.core.callbacks import CallbackManager\n",
    "from llama_index.core.callbacks import LlamaDebugHandler\n",
    "from llama_index.core import ServiceContext\n",
    "from llama_index.core.query_engine import RetrieverQueryEngine\n",
    "from llama_index.core.retrievers import KnowledgeGraphRAGRetriever\n",
    "from llama_index.core.indices.property_graph import (\n",
    "    SimpleLLMPathExtractor,\n",
    "    SchemaLLMPathExtractor,\n",
    "    DynamicLLMPathExtractor,\n",
    ")\n",
    "import yaml"
   ]
  },
  {
   "cell_type": "code",
   "execution_count": 2,
   "id": "b5e9f925-0bd9-406c-a41d-8be268260b0f",
   "metadata": {},
   "outputs": [],
   "source": [
    "from llama_index.core import (\n",
    "    load_index_from_storage,\n",
    "    load_indices_from_storage,\n",
    "    load_graph_from_storage,\n",
    ")"
   ]
  },
  {
   "cell_type": "code",
   "execution_count": 3,
   "id": "8291822a",
   "metadata": {},
   "outputs": [],
   "source": [
    "import nest_asyncio\n",
    "\n",
    "nest_asyncio.apply()"
   ]
  },
  {
   "cell_type": "code",
   "execution_count": 4,
   "id": "17dd9f9d-7e21-49ef-9a01-d8b0dd7fdc24",
   "metadata": {},
   "outputs": [],
   "source": [
    "logging.basicConfig(stream=sys.stdout, level=logging.INFO)\n",
    "logging.getLogger().addHandler(logging.StreamHandler(stream=sys.stdout))"
   ]
  },
  {
   "cell_type": "code",
   "execution_count": 5,
   "id": "75723dc1-fe8b-4ef7-bf0c-c702eba7ab14",
   "metadata": {},
   "outputs": [],
   "source": [
    "# add llm api key\n"
   ]
  },
  {
   "cell_type": "markdown",
   "id": "0fc2e828-7a94-463f-89b0-2d75521319a7",
   "metadata": {},
   "source": [
    "# Build a simple directory"
   ]
  },
  {
   "cell_type": "code",
   "execution_count": 6,
   "id": "280f6ae9-b082-4a6d-8705-12849fb1a08c",
   "metadata": {},
   "outputs": [],
   "source": [
    "simple_glossary = SimpleDirectoryReader(\n",
    "    r\"C:\\Users\\asarazin\\OneDrive - Veltys Max\\Documents\\documente-marcel\\graph\"\n",
    ").load_data()"
   ]
  },
  {
   "cell_type": "markdown",
   "id": "42ecd2f3-059f-4cd8-b0ed-97e95ee5075e",
   "metadata": {},
   "source": [
    "# Upload Obsidian vault files"
   ]
  },
  {
   "cell_type": "markdown",
   "id": "53d00bb4",
   "metadata": {},
   "source": [
    "#### Using Obsidian reader from LLama Index"
   ]
  },
  {
   "cell_type": "code",
   "execution_count": 7,
   "id": "3d414a6d-46da-43dd-ad82-44f404c86ae1",
   "metadata": {
    "scrolled": true
   },
   "outputs": [
    {
     "name": "stdout",
     "output_type": "stream",
     "text": [
      "[Document(id_='e1abdd8c-6e9c-4bcd-b158-8302eff811b5', embedding=None, metadata={}, excluded_embed_metadata_keys=[], excluded_llm_metadata_keys=[], relationships={}, text='---\\nparent: \"[[Model]]\"\\n---\\n', mimetype='text/plain', start_char_idx=None, end_char_idx=None, text_template='{metadata_str}\\n\\n{content}', metadata_template='{key}: {value}', metadata_seperator='\\n'), Document(id_='a92e2a0d-4ed9-4358-923c-e57df002f598', embedding=None, metadata={}, excluded_embed_metadata_keys=[], excluded_llm_metadata_keys=[], relationships={}, text='---\\nparent: \"[[Model]]\"\\n---\\n', mimetype='text/plain', start_char_idx=None, end_char_idx=None, text_template='{metadata_str}\\n\\n{content}', metadata_template='{key}: {value}', metadata_seperator='\\n'), Document(id_='47cd7945-39af-4f4b-bd22-b80ce8f15716', embedding=None, metadata={}, excluded_embed_metadata_keys=[], excluded_llm_metadata_keys=[], relationships={}, text='', mimetype='text/plain', start_char_idx=None, end_char_idx=None, text_template='{metadata_str}\\n\\n{content}', metadata_template='{key}: {value}', metadata_seperator='\\n'), Document(id_='4163a439-34f0-4fb0-b735-b2c3ae18473b', embedding=None, metadata={}, excluded_embed_metadata_keys=[], excluded_llm_metadata_keys=[], relationships={}, text='', mimetype='text/plain', start_char_idx=None, end_char_idx=None, text_template='{metadata_str}\\n\\n{content}', metadata_template='{key}: {value}', metadata_seperator='\\n'), Document(id_='915cbbf2-5f35-463c-b295-bd2f3556d68e', embedding=None, metadata={}, excluded_embed_metadata_keys=[], excluded_llm_metadata_keys=[], relationships={}, text='---\\nparent: \"[[Model]]\"\\n---\\n', mimetype='text/plain', start_char_idx=None, end_char_idx=None, text_template='{metadata_str}\\n\\n{content}', metadata_template='{key}: {value}', metadata_seperator='\\n'), Document(id_='c7277ed8-3643-47d5-a34f-4644ebf08724', embedding=None, metadata={}, excluded_embed_metadata_keys=[], excluded_llm_metadata_keys=[], relationships={}, text='---\\ntype_model:\\n  - \"[[Classification]]\"\\n---\\n', mimetype='text/plain', start_char_idx=None, end_char_idx=None, text_template='{metadata_str}\\n\\n{content}', metadata_template='{key}: {value}', metadata_seperator='\\n'), Document(id_='b23f81fd-e34b-429d-bcc5-6b3ec6166a0b', embedding=None, metadata={}, excluded_embed_metadata_keys=[], excluded_llm_metadata_keys=[], relationships={}, text='---\\ntype_model:\\n  - \"[[Clustering]]\"\\n  - \"[[Regression]]\"\\n  - \"[[Classification]]\"\\n---\\n', mimetype='text/plain', start_char_idx=None, end_char_idx=None, text_template='{metadata_str}\\n\\n{content}', metadata_template='{key}: {value}', metadata_seperator='\\n'), Document(id_='4bb92b5d-341d-4b69-8868-6260a44b50da', embedding=None, metadata={}, excluded_embed_metadata_keys=[], excluded_llm_metadata_keys=[], relationships={}, text='---\\ntype_model:\\n  - \"[[Regression]]\"\\nusage: \"[[Prediction]]\"\\n---\\n', mimetype='text/plain', start_char_idx=None, end_char_idx=None, text_template='{metadata_str}\\n\\n{content}', metadata_template='{key}: {value}', metadata_seperator='\\n'), Document(id_='8b835cc3-605e-4c99-8232-de4df034db0e', embedding=None, metadata={}, excluded_embed_metadata_keys=[], excluded_llm_metadata_keys=[], relationships={}, text='---\\nused by: \\ntype_model:\\n  - \"[[Regression]]\"\\n---\\n', mimetype='text/plain', start_char_idx=None, end_char_idx=None, text_template='{metadata_str}\\n\\n{content}', metadata_template='{key}: {value}', metadata_seperator='\\n'), Document(id_='2623ddff-ab84-4b24-a0aa-996d43a9c869', embedding=None, metadata={}, excluded_embed_metadata_keys=[], excluded_llm_metadata_keys=[], relationships={}, text='---\\ntype_algo: \"[[Optimization algorithm]]\"\\n---\\n', mimetype='text/plain', start_char_idx=None, end_char_idx=None, text_template='{metadata_str}\\n\\n{content}', metadata_template='{key}: {value}', metadata_seperator='\\n'), Document(id_='9a74801a-2391-493d-95b7-df92802c38e9', embedding=None, metadata={}, excluded_embed_metadata_keys=[], excluded_llm_metadata_keys=[], relationships={}, text='', mimetype='text/plain', start_char_idx=None, end_char_idx=None, text_template='{metadata_str}\\n\\n{content}', metadata_template='{key}: {value}', metadata_seperator='\\n')]\n"
     ]
    }
   ],
   "source": [
    "#locate obsidian files that make your graph\n",
    "filepath = r\"C:\\Users\\asarazin\\OneDrive - Veltys Max\\Documents\\documente-marcel\\graph\"\n",
    "\n",
    "#load the graph files \n",
    "graph_files = ObsidianReader(filepath).load_data()\n",
    "print(list(graph_files))"
   ]
  },
  {
   "cell_type": "markdown",
   "id": "b4066792",
   "metadata": {},
   "source": [
    "# Using manual code to create specific ontology"
   ]
  },
  {
   "cell_type": "code",
   "execution_count": 8,
   "id": "16f92a58",
   "metadata": {},
   "outputs": [],
   "source": [
    "# Fonction pour extraire les métadonnées YAML et le titre d'un fichier Markdown\n",
    "def extract_metadata_and_title(file_path):\n",
    "    with open(file_path, 'r', encoding='utf-8') as f:\n",
    "        content = f.read()\n",
    "        # Recherchez la section YAML (entre `---` au début et à la fin)\n",
    "        if content.startswith(\"---\"):\n",
    "            try:\n",
    "                yaml_block = content.split(\"---\", 2)[1]\n",
    "                metadata = yaml.safe_load(yaml_block)\n",
    "                return os.path.basename(file_path).replace(\".md\", \"\"), metadata\n",
    "            except Exception as e:\n",
    "                print(f\"Erreur lors de l'extraction des métadonnées de {file_path}: {e}\")\n",
    "                return None, None\n",
    "        return os.path.basename(file_path).replace(\".md\", \"\"), None\n",
    "\n",
    "# Parcourir les fichiers Obsidian et créer des entités et relations\n",
    "def process_obsidian_notes(directory):\n",
    "    entities = []\n",
    "    relations = []\n",
    "    \n",
    "    for root, _, files in os.walk(directory):\n",
    "        for file in files:\n",
    "            if file.endswith(\".md\"):\n",
    "                file_path = os.path.join(root, file)\n",
    "                title, metadata = extract_metadata_and_title(file_path)\n",
    "                if title:\n",
    "                    # Ajouter l'entité basée sur le titre\n",
    "                    entities.append({\"name\": title})\n",
    "                    \n",
    "                    # Ajouter les relations basées sur les propriétés YAML\n",
    "                    if metadata:\n",
    "                        for key, value in metadata.items():\n",
    "                            relations.append({\n",
    "                                \"type\": key,  # Nom de la propriété comme relation\n",
    "                                \"source\": title,  # Titre du fichier comme entité source\n",
    "                                \"target\": value,  # Valeur de la propriété comme entité cible\n",
    "                            })\n",
    "    return entities, relations\n",
    "\n"
   ]
  },
  {
   "cell_type": "code",
   "execution_count": 9,
   "id": "95381307",
   "metadata": {},
   "outputs": [
    {
     "name": "stdout",
     "output_type": "stream",
     "text": [
      "[{'type': 'parent', 'source': 'Classification', 'target': '[[Model]]'}, {'type': 'parent', 'source': 'Clustering', 'target': '[[Model]]'}, {'type': 'parent', 'source': 'Regression', 'target': '[[Model]]'}, {'type': 'type_model', 'source': 'Logistic Regression', 'target': ['[[Classification]]']}, {'type': 'type_model', 'source': 'KNN', 'target': ['[[Clustering]]', '[[Regression]]', '[[Classification]]']}, {'type': 'type_model', 'source': 'Linear Regression', 'target': ['[[Regression]]']}, {'type': 'usage', 'source': 'Linear Regression', 'target': '[[Prediction]]'}, {'type': 'used by', 'source': 'Polynomial regression', 'target': None}, {'type': 'type_model', 'source': 'Polynomial regression', 'target': ['[[Regression]]']}, {'type': 'type_algo', 'source': 'Gradient descent', 'target': '[[Optimization algorithm]]'}]\n"
     ]
    }
   ],
   "source": [
    "# Exemple d'utilisation\n",
    "obsidian_dir = r\"C:\\Users\\asarazin\\OneDrive - Veltys Max\\Documents\\documente-marcel\\graph\"\n",
    "entities, relations = process_obsidian_notes(obsidian_dir)\n",
    "\n",
    "print(relations)"
   ]
  },
  {
   "cell_type": "markdown",
   "id": "fe5efb9f-d02f-490e-966c-f490b5e9db3e",
   "metadata": {},
   "source": [
    "# Set LLM (OpenAI)"
   ]
  },
  {
   "cell_type": "code",
   "execution_count": 10,
   "id": "a30f2c04-d01b-47ce-a532-c6c8fb4ee42c",
   "metadata": {},
   "outputs": [],
   "source": [
    "llm = OpenAI(temperature=0, model=\"gpt-4o\", max_tokens=3000)\n",
    "Settings.llm = llm\n",
    "Settings.chunk_size = 512"
   ]
  },
  {
   "cell_type": "markdown",
   "id": "6a010330-bc6a-4e1c-8605-16afe8200585",
   "metadata": {},
   "source": [
    "# Set local LLM for embeddings ()"
   ]
  },
  {
   "cell_type": "code",
   "execution_count": 11,
   "id": "aa6be1f9-b33d-400a-a471-eeeeb35c0448",
   "metadata": {},
   "outputs": [
    {
     "name": "stdout",
     "output_type": "stream",
     "text": [
      "INFO:sentence_transformers.SentenceTransformer:Load pretrained SentenceTransformer: BAAI/bge-base-en-v1.5\n",
      "Load pretrained SentenceTransformer: BAAI/bge-base-en-v1.5\n",
      "INFO:sentence_transformers.SentenceTransformer:2 prompts are loaded, with the keys: ['query', 'text']\n",
      "2 prompts are loaded, with the keys: ['query', 'text']\n"
     ]
    }
   ],
   "source": [
    "# bge-base embedding model\n",
    "Settings.embed_model = HuggingFaceEmbedding(model_name=\"BAAI/bge-base-en-v1.5\")\n",
    "#Settings.embed_model = OpenAIEmbedding(model=\"text-embedding-3-small\")\n"
   ]
  },
  {
   "cell_type": "markdown",
   "id": "c57e871d-dbf8-4cb1-897d-bdaef21b170d",
   "metadata": {},
   "source": [
    "# Set LLM for chat  (Local)"
   ]
  },
  {
   "cell_type": "code",
   "execution_count": 12,
   "id": "5843a4c5-e11f-4c32-b446-2aec529a5789",
   "metadata": {},
   "outputs": [],
   "source": [
    "#llm = Ollama(model=\"tinyllama\", request_timeout=120.0)\n",
    "#Settings.llm = llm\n",
    "#Settings.chunk_size = 512"
   ]
  },
  {
   "cell_type": "markdown",
   "id": "21c5460a-bb6d-4839-92db-1180e146af06",
   "metadata": {},
   "source": [
    "# Test LLM"
   ]
  },
  {
   "cell_type": "code",
   "execution_count": 13,
   "id": "8a1e0de1-14c5-4b4b-9e40-ebbdae50b263",
   "metadata": {
    "scrolled": true
   },
   "outputs": [
    {
     "name": "stdout",
     "output_type": "stream",
     "text": [
      "INFO:httpx:HTTP Request: POST https://api.openai.com/v1/chat/completions \"HTTP/1.1 200 OK\"\n",
      "HTTP Request: POST https://api.openai.com/v1/chat/completions \"HTTP/1.1 200 OK\"\n",
      "assistant: As a data governance consultant, I don't have personal preferences or favorites. However, I can tell you about some popular data governance tools that are widely used in the industry. These include:\n",
      "\n",
      "1. **Collibra**: Known for its comprehensive data governance platform that helps organizations manage data assets, ensure compliance, and improve data quality.\n",
      "\n",
      "2. **Informatica Axon**: Offers a collaborative data governance solution that integrates with other Informatica products to provide a holistic approach to data management.\n",
      "\n",
      "3. **Alation**: Provides a data catalog that helps organizations discover, understand, and govern their data assets effectively.\n",
      "\n",
      "4. **Talend**: Offers data integration and governance solutions that help ensure data quality and compliance across various data sources.\n",
      "\n",
      "5. **IBM Watson Knowledge Catalog**: Part of IBM's data governance suite, it provides tools for data cataloging, policy management, and data quality.\n",
      "\n",
      "Each of these tools has its strengths and is suited to different organizational needs and environments. The choice of tool often depends on specific requirements, existing infrastructure, and strategic goals.\n"
     ]
    }
   ],
   "source": [
    "messages = [\n",
    "    ChatMessage(\n",
    "        role=\"system\", content=\"You are a data governance consultant\"\n",
    "    ),\n",
    "    ChatMessage(role=\"user\", content=\"What's your favorite data tool ?\"),\n",
    "]\n",
    "resp = llm.chat(messages)\n",
    "print(resp)"
   ]
  },
  {
   "cell_type": "code",
   "execution_count": 14,
   "id": "ee83593e",
   "metadata": {},
   "outputs": [],
   "source": [
    "# Instantiate vector store\n",
    "simple_glossary = SimpleDirectoryReader(\n",
    "    r\"C:\\Users\\asarazin\\OneDrive - Veltys Max\\Documents\\documente-marcel\\graph\"\n",
    ")"
   ]
  },
  {
   "cell_type": "markdown",
   "id": "d9b83af3-ff18-40f0-8469-5c8b2a75b5dd",
   "metadata": {},
   "source": [
    "# Instantiate graph store "
   ]
  },
  {
   "cell_type": "code",
   "execution_count": 15,
   "id": "e12d5f9c-03ea-4af6-a3ad-c1764d08e99b",
   "metadata": {},
   "outputs": [],
   "source": [
    "graph_store = SimpleGraphStore()\n",
    "graph_storage_context = StorageContext.from_defaults(graph_store=graph_store)"
   ]
  },
  {
   "cell_type": "markdown",
   "id": "f2f102bb",
   "metadata": {},
   "source": [
    "# Instantiate ontology store"
   ]
  },
  {
   "cell_type": "code",
   "execution_count": 16,
   "id": "a66387e2",
   "metadata": {},
   "outputs": [],
   "source": [
    "onto_store = SimpleGraphStore()\n",
    "onto_storage_context = StorageContext.from_defaults(graph_store=onto_store)"
   ]
  },
  {
   "cell_type": "markdown",
   "id": "b94eacca-42e3-4140-a620-c199f3578e6e",
   "metadata": {},
   "source": [
    "# Construct Index"
   ]
  },
  {
   "cell_type": "markdown",
   "id": "ff6a821e-abd8-4cb4-b2dc-98163aa332df",
   "metadata": {},
   "source": [
    "## Construct Vector Store Index"
   ]
  },
  {
   "cell_type": "code",
   "execution_count": 17,
   "id": "53fee7a2",
   "metadata": {},
   "outputs": [
    {
     "data": {
      "application/vnd.jupyter.widget-view+json": {
       "model_id": "03ae4c80b4ee4b21a713faca94e7da09",
       "version_major": 2,
       "version_minor": 0
      },
      "text/plain": [
       "Parsing nodes:   0%|          | 0/5 [00:00<?, ?it/s]"
      ]
     },
     "metadata": {},
     "output_type": "display_data"
    },
    {
     "data": {
      "application/vnd.jupyter.widget-view+json": {
       "model_id": "028964bb584a47e9a8f8b6e39a43ce6a",
       "version_major": 2,
       "version_minor": 0
      },
      "text/plain": [
       "Generating embeddings:   0%|          | 0/5 [00:00<?, ?it/s]"
      ]
     },
     "metadata": {},
     "output_type": "display_data"
    },
    {
     "data": {
      "application/vnd.jupyter.widget-view+json": {
       "model_id": "05df1b2072ce4ebb90ad00847a0bf4f5",
       "version_major": 2,
       "version_minor": 0
      },
      "text/plain": [
       "Batches:   0%|          | 0/1 [00:00<?, ?it/s]"
      ]
     },
     "metadata": {},
     "output_type": "display_data"
    }
   ],
   "source": [
    "vector_index = VectorStoreIndex.from_documents(\n",
    "    documents = simple_glossary.load_data(),\n",
    "    show_progress=True)"
   ]
  },
  {
   "cell_type": "code",
   "execution_count": 18,
   "id": "4c8c116b",
   "metadata": {},
   "outputs": [],
   "source": [
    "# save index to disk\n",
    "vector_index.set_index_id(\"vector_index\")\n",
    "vector_index.storage_context.persist(\"vector\")"
   ]
  },
  {
   "cell_type": "markdown",
   "id": "6061a476-f5cc-4805-ad25-6e1533e787e5",
   "metadata": {},
   "source": [
    "## Construct knowledge graph index "
   ]
  },
  {
   "cell_type": "code",
   "execution_count": 19,
   "id": "250b454a-f598-4749-8847-f59fa3a36a47",
   "metadata": {},
   "outputs": [],
   "source": [
    "def process_document(doc):\n",
    "    # This function will be called for each document\n",
    "    print(f\"Processing document: {doc.doc_id}\")\n",
    "    return doc"
   ]
  },
  {
   "cell_type": "code",
   "execution_count": 20,
   "id": "3ca242f4-8ce0-4599-a888-eccc840b1587",
   "metadata": {},
   "outputs": [
    {
     "name": "stdout",
     "output_type": "stream",
     "text": [
      "Starting to process 11 documents...\n"
     ]
    }
   ],
   "source": [
    "# Assuming you have your graph files loaded\n",
    "print(f\"Starting to process {len(graph_files)} documents...\")"
   ]
  },
  {
   "cell_type": "code",
   "execution_count": 21,
   "id": "73397fd8-2bb8-41c3-ae12-f64621c9fa54",
   "metadata": {
    "scrolled": true
   },
   "outputs": [
    {
     "name": "stdout",
     "output_type": "stream",
     "text": [
      "Processing document: e1abdd8c-6e9c-4bcd-b158-8302eff811b5\n",
      "Processing document: a92e2a0d-4ed9-4358-923c-e57df002f598\n",
      "Processing document: 47cd7945-39af-4f4b-bd22-b80ce8f15716\n",
      "Processing document: 4163a439-34f0-4fb0-b735-b2c3ae18473b\n",
      "Processing document: 915cbbf2-5f35-463c-b295-bd2f3556d68e\n",
      "Processing document: c7277ed8-3643-47d5-a34f-4644ebf08724\n",
      "Processing document: b23f81fd-e34b-429d-bcc5-6b3ec6166a0b\n",
      "Processing document: 4bb92b5d-341d-4b69-8868-6260a44b50da\n",
      "Processing document: 8b835cc3-605e-4c99-8232-de4df034db0e\n",
      "Processing document: 2623ddff-ab84-4b24-a0aa-996d43a9c869\n",
      "Processing document: 9a74801a-2391-493d-95b7-df92802c38e9\n"
     ]
    },
    {
     "data": {
      "application/vnd.jupyter.widget-view+json": {
       "model_id": "07492c9ba50f4ca59b46dc4bd9936baf",
       "version_major": 2,
       "version_minor": 0
      },
      "text/plain": [
       "Parsing nodes:   0%|          | 0/11 [00:00<?, ?it/s]"
      ]
     },
     "metadata": {},
     "output_type": "display_data"
    },
    {
     "data": {
      "application/vnd.jupyter.widget-view+json": {
       "model_id": "06c9d53e1a274f9da573a5794b510bad",
       "version_major": 2,
       "version_minor": 0
      },
      "text/plain": [
       "Processing nodes:   0%|          | 0/11 [00:00<?, ?it/s]"
      ]
     },
     "metadata": {},
     "output_type": "display_data"
    },
    {
     "name": "stdout",
     "output_type": "stream",
     "text": [
      "INFO:httpx:HTTP Request: POST https://api.openai.com/v1/chat/completions \"HTTP/1.1 200 OK\"\n",
      "HTTP Request: POST https://api.openai.com/v1/chat/completions \"HTTP/1.1 200 OK\"\n"
     ]
    },
    {
     "data": {
      "application/vnd.jupyter.widget-view+json": {
       "model_id": "1f054f1581cc4f6d99f8d818c824c336",
       "version_major": 2,
       "version_minor": 0
      },
      "text/plain": [
       "Generating embeddings:   0%|          | 0/1 [00:00<?, ?it/s]"
      ]
     },
     "metadata": {},
     "output_type": "display_data"
    },
    {
     "data": {
      "application/vnd.jupyter.widget-view+json": {
       "model_id": "341a64d0161e4d9a886428afdb5a6309",
       "version_major": 2,
       "version_minor": 0
      },
      "text/plain": [
       "Batches:   0%|          | 0/1 [00:00<?, ?it/s]"
      ]
     },
     "metadata": {},
     "output_type": "display_data"
    },
    {
     "name": "stdout",
     "output_type": "stream",
     "text": [
      "INFO:httpx:HTTP Request: POST https://api.openai.com/v1/chat/completions \"HTTP/1.1 200 OK\"\n",
      "HTTP Request: POST https://api.openai.com/v1/chat/completions \"HTTP/1.1 200 OK\"\n"
     ]
    },
    {
     "data": {
      "application/vnd.jupyter.widget-view+json": {
       "model_id": "c5b5fad42c574e44b5d11745a94a23aa",
       "version_major": 2,
       "version_minor": 0
      },
      "text/plain": [
       "Generating embeddings:   0%|          | 0/1 [00:00<?, ?it/s]"
      ]
     },
     "metadata": {},
     "output_type": "display_data"
    },
    {
     "data": {
      "application/vnd.jupyter.widget-view+json": {
       "model_id": "37268aba4164467f8e4a8120957484cf",
       "version_major": 2,
       "version_minor": 0
      },
      "text/plain": [
       "Batches:   0%|          | 0/1 [00:00<?, ?it/s]"
      ]
     },
     "metadata": {},
     "output_type": "display_data"
    },
    {
     "name": "stdout",
     "output_type": "stream",
     "text": [
      "INFO:httpx:HTTP Request: POST https://api.openai.com/v1/chat/completions \"HTTP/1.1 200 OK\"\n",
      "HTTP Request: POST https://api.openai.com/v1/chat/completions \"HTTP/1.1 200 OK\"\n"
     ]
    },
    {
     "data": {
      "application/vnd.jupyter.widget-view+json": {
       "model_id": "efd567b861404b64acb5a9e50962e80a",
       "version_major": 2,
       "version_minor": 0
      },
      "text/plain": [
       "Generating embeddings: 0it [00:00, ?it/s]"
      ]
     },
     "metadata": {},
     "output_type": "display_data"
    },
    {
     "name": "stdout",
     "output_type": "stream",
     "text": [
      "INFO:httpx:HTTP Request: POST https://api.openai.com/v1/chat/completions \"HTTP/1.1 200 OK\"\n",
      "HTTP Request: POST https://api.openai.com/v1/chat/completions \"HTTP/1.1 200 OK\"\n"
     ]
    },
    {
     "data": {
      "application/vnd.jupyter.widget-view+json": {
       "model_id": "d6ba69d44f7e4a68980dd4afed41e61d",
       "version_major": 2,
       "version_minor": 0
      },
      "text/plain": [
       "Generating embeddings: 0it [00:00, ?it/s]"
      ]
     },
     "metadata": {},
     "output_type": "display_data"
    },
    {
     "name": "stdout",
     "output_type": "stream",
     "text": [
      "INFO:httpx:HTTP Request: POST https://api.openai.com/v1/chat/completions \"HTTP/1.1 200 OK\"\n",
      "HTTP Request: POST https://api.openai.com/v1/chat/completions \"HTTP/1.1 200 OK\"\n"
     ]
    },
    {
     "data": {
      "application/vnd.jupyter.widget-view+json": {
       "model_id": "1fb830966d2f4d3ebf33b8cb36657cec",
       "version_major": 2,
       "version_minor": 0
      },
      "text/plain": [
       "Generating embeddings:   0%|          | 0/1 [00:00<?, ?it/s]"
      ]
     },
     "metadata": {},
     "output_type": "display_data"
    },
    {
     "data": {
      "application/vnd.jupyter.widget-view+json": {
       "model_id": "17b9493439974dd893b035ea13b57910",
       "version_major": 2,
       "version_minor": 0
      },
      "text/plain": [
       "Batches:   0%|          | 0/1 [00:00<?, ?it/s]"
      ]
     },
     "metadata": {},
     "output_type": "display_data"
    },
    {
     "name": "stdout",
     "output_type": "stream",
     "text": [
      "INFO:httpx:HTTP Request: POST https://api.openai.com/v1/chat/completions \"HTTP/1.1 200 OK\"\n",
      "HTTP Request: POST https://api.openai.com/v1/chat/completions \"HTTP/1.1 200 OK\"\n"
     ]
    },
    {
     "data": {
      "application/vnd.jupyter.widget-view+json": {
       "model_id": "780f17f9276147cebbf9fce925629525",
       "version_major": 2,
       "version_minor": 0
      },
      "text/plain": [
       "Generating embeddings:   0%|          | 0/1 [00:00<?, ?it/s]"
      ]
     },
     "metadata": {},
     "output_type": "display_data"
    },
    {
     "data": {
      "application/vnd.jupyter.widget-view+json": {
       "model_id": "8087fa83340140efb7137130cb5d3688",
       "version_major": 2,
       "version_minor": 0
      },
      "text/plain": [
       "Batches:   0%|          | 0/1 [00:00<?, ?it/s]"
      ]
     },
     "metadata": {},
     "output_type": "display_data"
    },
    {
     "name": "stdout",
     "output_type": "stream",
     "text": [
      "INFO:httpx:HTTP Request: POST https://api.openai.com/v1/chat/completions \"HTTP/1.1 200 OK\"\n",
      "HTTP Request: POST https://api.openai.com/v1/chat/completions \"HTTP/1.1 200 OK\"\n"
     ]
    },
    {
     "data": {
      "application/vnd.jupyter.widget-view+json": {
       "model_id": "1b4c748778694977bf46e997ac106ae2",
       "version_major": 2,
       "version_minor": 0
      },
      "text/plain": [
       "Generating embeddings:   0%|          | 0/2 [00:00<?, ?it/s]"
      ]
     },
     "metadata": {},
     "output_type": "display_data"
    },
    {
     "data": {
      "application/vnd.jupyter.widget-view+json": {
       "model_id": "93e108697c5d4f37b6cb13a66d0c33c7",
       "version_major": 2,
       "version_minor": 0
      },
      "text/plain": [
       "Batches:   0%|          | 0/1 [00:00<?, ?it/s]"
      ]
     },
     "metadata": {},
     "output_type": "display_data"
    },
    {
     "name": "stdout",
     "output_type": "stream",
     "text": [
      "INFO:httpx:HTTP Request: POST https://api.openai.com/v1/chat/completions \"HTTP/1.1 200 OK\"\n",
      "HTTP Request: POST https://api.openai.com/v1/chat/completions \"HTTP/1.1 200 OK\"\n"
     ]
    },
    {
     "data": {
      "application/vnd.jupyter.widget-view+json": {
       "model_id": "ee25e8de43654594b5767baa8a1997ad",
       "version_major": 2,
       "version_minor": 0
      },
      "text/plain": [
       "Generating embeddings:   0%|          | 0/2 [00:00<?, ?it/s]"
      ]
     },
     "metadata": {},
     "output_type": "display_data"
    },
    {
     "data": {
      "application/vnd.jupyter.widget-view+json": {
       "model_id": "b0ed3d28c80b44be8ef63020ca9612de",
       "version_major": 2,
       "version_minor": 0
      },
      "text/plain": [
       "Batches:   0%|          | 0/1 [00:00<?, ?it/s]"
      ]
     },
     "metadata": {},
     "output_type": "display_data"
    },
    {
     "name": "stdout",
     "output_type": "stream",
     "text": [
      "INFO:httpx:HTTP Request: POST https://api.openai.com/v1/chat/completions \"HTTP/1.1 200 OK\"\n",
      "HTTP Request: POST https://api.openai.com/v1/chat/completions \"HTTP/1.1 200 OK\"\n"
     ]
    },
    {
     "data": {
      "application/vnd.jupyter.widget-view+json": {
       "model_id": "3815d5499ebe411a89b836a96ac19eaf",
       "version_major": 2,
       "version_minor": 0
      },
      "text/plain": [
       "Generating embeddings:   0%|          | 0/1 [00:00<?, ?it/s]"
      ]
     },
     "metadata": {},
     "output_type": "display_data"
    },
    {
     "data": {
      "application/vnd.jupyter.widget-view+json": {
       "model_id": "f374e24ff2e74cc3a34d1ca104817c3b",
       "version_major": 2,
       "version_minor": 0
      },
      "text/plain": [
       "Batches:   0%|          | 0/1 [00:00<?, ?it/s]"
      ]
     },
     "metadata": {},
     "output_type": "display_data"
    },
    {
     "name": "stdout",
     "output_type": "stream",
     "text": [
      "INFO:httpx:HTTP Request: POST https://api.openai.com/v1/chat/completions \"HTTP/1.1 200 OK\"\n",
      "HTTP Request: POST https://api.openai.com/v1/chat/completions \"HTTP/1.1 200 OK\"\n"
     ]
    },
    {
     "data": {
      "application/vnd.jupyter.widget-view+json": {
       "model_id": "ab034e31527e4bc89e6737ead380287d",
       "version_major": 2,
       "version_minor": 0
      },
      "text/plain": [
       "Generating embeddings:   0%|          | 0/1 [00:00<?, ?it/s]"
      ]
     },
     "metadata": {},
     "output_type": "display_data"
    },
    {
     "data": {
      "application/vnd.jupyter.widget-view+json": {
       "model_id": "fd472ba89f734783bb05c7a7591b072c",
       "version_major": 2,
       "version_minor": 0
      },
      "text/plain": [
       "Batches:   0%|          | 0/1 [00:00<?, ?it/s]"
      ]
     },
     "metadata": {},
     "output_type": "display_data"
    },
    {
     "name": "stdout",
     "output_type": "stream",
     "text": [
      "INFO:httpx:HTTP Request: POST https://api.openai.com/v1/chat/completions \"HTTP/1.1 200 OK\"\n",
      "HTTP Request: POST https://api.openai.com/v1/chat/completions \"HTTP/1.1 200 OK\"\n"
     ]
    },
    {
     "data": {
      "application/vnd.jupyter.widget-view+json": {
       "model_id": "b58d20537bad43cdafedf187fe2b01b5",
       "version_major": 2,
       "version_minor": 0
      },
      "text/plain": [
       "Generating embeddings: 0it [00:00, ?it/s]"
      ]
     },
     "metadata": {},
     "output_type": "display_data"
    }
   ],
   "source": [
    "# Wrap your document processing in a progress bar\n",
    "graph_index = KnowledgeGraphIndex.from_documents(\n",
    "        documents=[process_document(doc) for doc in graph_files],  # process one document at a time\n",
    "        max_triplets_per_chunk=2,\n",
    "        storage_context=graph_storage_context,\n",
    "        include_embeddings=True,\n",
    "    show_progress=True,\n",
    ")\n"
   ]
  },
  {
   "cell_type": "code",
   "execution_count": 22,
   "id": "bdf91f91-dfe7-4034-8719-54b10a1d1a01",
   "metadata": {},
   "outputs": [
    {
     "name": "stdout",
     "output_type": "stream",
     "text": [
      "<llama_index.core.indices.knowledge_graph.base.KnowledgeGraphIndex object at 0x000001F93C0D4380>\n"
     ]
    }
   ],
   "source": [
    "print(graph_index)"
   ]
  },
  {
   "cell_type": "code",
   "execution_count": 23,
   "id": "7e2e5de7-68d1-4b89-b1c2-e703f31419d7",
   "metadata": {
    "scrolled": true
   },
   "outputs": [],
   "source": [
    "graph_index.set_index_id(\"graph_index\")\n",
    "graph_index.storage_context.persist(\"knowledge_graph\")\n",
    "graph_storage_context.persist(persist_dir=\"knowledge_graph\")\n"
   ]
  },
  {
   "cell_type": "markdown",
   "id": "0a48545d",
   "metadata": {},
   "source": [
    "## Construct knowledge with ontology as assistant"
   ]
  },
  {
   "cell_type": "code",
   "execution_count": 24,
   "id": "64c7bd75",
   "metadata": {},
   "outputs": [],
   "source": [
    "onto_store = SimpleGraphStore()\n",
    "onto_storage_context = StorageContext.from_defaults(graph_store=onto_store)"
   ]
  },
  {
   "cell_type": "code",
   "execution_count": 25,
   "id": "76ed084e",
   "metadata": {},
   "outputs": [],
   "source": [
    "# Configurer DynamicLLMPathExtractor avec les entités et relations extraites\n",
    "kg_extractor = DynamicLLMPathExtractor(\n",
    "    llm=llm,\n",
    "    max_triplets_per_chunk=20,\n",
    "    num_workers=4,\n",
    "    allowed_entity_types=None,  # Si vous ne limitez pas les types d'entités\n",
    "    allowed_relation_types=None,  # Si vous ne limitez pas les types de relations\n",
    "    allowed_entity_props=None,\n",
    "    allowed_relation_props=None,\n",
    ")"
   ]
  },
  {
   "cell_type": "code",
   "execution_count": 26,
   "id": "7b0225a3",
   "metadata": {},
   "outputs": [
    {
     "name": "stdout",
     "output_type": "stream",
     "text": [
      "Entités :\n",
      "{'name': 'Classification'}\n",
      "{'name': 'Clustering'}\n",
      "{'name': 'Model'}\n",
      "{'name': 'Optimization algorithm'}\n",
      "{'name': 'Regression'}\n",
      "{'name': 'Logistic Regression'}\n",
      "{'name': 'KNN'}\n",
      "{'name': 'Linear Regression'}\n",
      "{'name': 'Polynomial regression'}\n",
      "{'name': 'Gradient descent'}\n",
      "{'name': 'Prediction'}\n",
      "\n",
      "Relations :\n",
      "{'type': 'parent', 'source': 'Classification', 'target': '[[Model]]'}\n",
      "{'type': 'parent', 'source': 'Clustering', 'target': '[[Model]]'}\n",
      "{'type': 'parent', 'source': 'Regression', 'target': '[[Model]]'}\n",
      "{'type': 'type_model', 'source': 'Logistic Regression', 'target': ['[[Classification]]']}\n",
      "{'type': 'type_model', 'source': 'KNN', 'target': ['[[Clustering]]', '[[Regression]]', '[[Classification]]']}\n",
      "{'type': 'type_model', 'source': 'Linear Regression', 'target': ['[[Regression]]']}\n",
      "{'type': 'usage', 'source': 'Linear Regression', 'target': '[[Prediction]]'}\n",
      "{'type': 'used by', 'source': 'Polynomial regression', 'target': None}\n",
      "{'type': 'type_model', 'source': 'Polynomial regression', 'target': ['[[Regression]]']}\n",
      "{'type': 'type_algo', 'source': 'Gradient descent', 'target': '[[Optimization algorithm]]'}\n"
     ]
    }
   ],
   "source": [
    "# Résumé des entités et relations extraites\n",
    "print(\"Entités :\")\n",
    "for entity in entities:\n",
    "    print(entity)\n",
    "\n",
    "print(\"\\nRelations :\")\n",
    "for relation in relations:\n",
    "    print(relation)"
   ]
  },
  {
   "cell_type": "code",
   "execution_count": 27,
   "id": "2e813096",
   "metadata": {},
   "outputs": [
    {
     "name": "stdout",
     "output_type": "stream",
     "text": [
      "Processing document: e1abdd8c-6e9c-4bcd-b158-8302eff811b5\n",
      "Processing document: a92e2a0d-4ed9-4358-923c-e57df002f598\n",
      "Processing document: 47cd7945-39af-4f4b-bd22-b80ce8f15716\n",
      "Processing document: 4163a439-34f0-4fb0-b735-b2c3ae18473b\n",
      "Processing document: 915cbbf2-5f35-463c-b295-bd2f3556d68e\n",
      "Processing document: c7277ed8-3643-47d5-a34f-4644ebf08724\n",
      "Processing document: b23f81fd-e34b-429d-bcc5-6b3ec6166a0b\n",
      "Processing document: 4bb92b5d-341d-4b69-8868-6260a44b50da\n",
      "Processing document: 8b835cc3-605e-4c99-8232-de4df034db0e\n",
      "Processing document: 2623ddff-ab84-4b24-a0aa-996d43a9c869\n",
      "Processing document: 9a74801a-2391-493d-95b7-df92802c38e9\n"
     ]
    },
    {
     "data": {
      "application/vnd.jupyter.widget-view+json": {
       "model_id": "d09a5a09ad0a43c8819bfefceb4a1526",
       "version_major": 2,
       "version_minor": 0
      },
      "text/plain": [
       "Parsing nodes:   0%|          | 0/11 [00:00<?, ?it/s]"
      ]
     },
     "metadata": {},
     "output_type": "display_data"
    },
    {
     "name": "stderr",
     "output_type": "stream",
     "text": [
      "Extracting and inferring knowledge graph from text:   0%|          | 0/11 [00:00<?, ?it/s]"
     ]
    },
    {
     "name": "stdout",
     "output_type": "stream",
     "text": [
      "INFO:httpx:HTTP Request: POST https://api.openai.com/v1/chat/completions \"HTTP/1.1 200 OK\"\n",
      "HTTP Request: POST https://api.openai.com/v1/chat/completions \"HTTP/1.1 200 OK\"\n"
     ]
    },
    {
     "name": "stderr",
     "output_type": "stream",
     "text": [
      "Extracting and inferring knowledge graph from text:   9%|▉         | 1/11 [00:00<00:09,  1.10it/s]"
     ]
    },
    {
     "name": "stdout",
     "output_type": "stream",
     "text": [
      "INFO:httpx:HTTP Request: POST https://api.openai.com/v1/chat/completions \"HTTP/1.1 200 OK\"\n",
      "HTTP Request: POST https://api.openai.com/v1/chat/completions \"HTTP/1.1 200 OK\"\n"
     ]
    },
    {
     "name": "stderr",
     "output_type": "stream",
     "text": [
      "Extracting and inferring knowledge graph from text:  18%|█▊        | 2/11 [00:01<00:04,  2.15it/s]"
     ]
    },
    {
     "name": "stdout",
     "output_type": "stream",
     "text": [
      "INFO:httpx:HTTP Request: POST https://api.openai.com/v1/chat/completions \"HTTP/1.1 200 OK\"\n",
      "HTTP Request: POST https://api.openai.com/v1/chat/completions \"HTTP/1.1 200 OK\"\n",
      "INFO:httpx:HTTP Request: POST https://api.openai.com/v1/chat/completions \"HTTP/1.1 200 OK\"\n",
      "HTTP Request: POST https://api.openai.com/v1/chat/completions \"HTTP/1.1 200 OK\"\n"
     ]
    },
    {
     "name": "stderr",
     "output_type": "stream",
     "text": [
      "Extracting and inferring knowledge graph from text:  36%|███▋      | 4/11 [00:01<00:01,  4.22it/s]"
     ]
    },
    {
     "name": "stdout",
     "output_type": "stream",
     "text": [
      "INFO:httpx:HTTP Request: POST https://api.openai.com/v1/chat/completions \"HTTP/1.1 200 OK\"\n",
      "HTTP Request: POST https://api.openai.com/v1/chat/completions \"HTTP/1.1 200 OK\"\n",
      "INFO:httpx:HTTP Request: POST https://api.openai.com/v1/chat/completions \"HTTP/1.1 200 OK\"\n",
      "HTTP Request: POST https://api.openai.com/v1/chat/completions \"HTTP/1.1 200 OK\"\n"
     ]
    },
    {
     "name": "stderr",
     "output_type": "stream",
     "text": [
      "Extracting and inferring knowledge graph from text:  45%|████▌     | 5/11 [00:01<00:02,  2.61it/s]"
     ]
    },
    {
     "name": "stdout",
     "output_type": "stream",
     "text": [
      "INFO:httpx:HTTP Request: POST https://api.openai.com/v1/chat/completions \"HTTP/1.1 200 OK\"\n",
      "HTTP Request: POST https://api.openai.com/v1/chat/completions \"HTTP/1.1 200 OK\"\n"
     ]
    },
    {
     "name": "stderr",
     "output_type": "stream",
     "text": [
      "Extracting and inferring knowledge graph from text:  64%|██████▎   | 7/11 [00:02<00:00,  4.02it/s]"
     ]
    },
    {
     "name": "stdout",
     "output_type": "stream",
     "text": [
      "INFO:httpx:HTTP Request: POST https://api.openai.com/v1/chat/completions \"HTTP/1.1 200 OK\"\n",
      "HTTP Request: POST https://api.openai.com/v1/chat/completions \"HTTP/1.1 200 OK\"\n"
     ]
    },
    {
     "name": "stderr",
     "output_type": "stream",
     "text": [
      "Extracting and inferring knowledge graph from text:  73%|███████▎  | 8/11 [00:02<00:00,  3.07it/s]"
     ]
    },
    {
     "name": "stdout",
     "output_type": "stream",
     "text": [
      "INFO:httpx:HTTP Request: POST https://api.openai.com/v1/chat/completions \"HTTP/1.1 200 OK\"\n",
      "HTTP Request: POST https://api.openai.com/v1/chat/completions \"HTTP/1.1 200 OK\"\n"
     ]
    },
    {
     "name": "stderr",
     "output_type": "stream",
     "text": [
      "Extracting and inferring knowledge graph from text:  82%|████████▏ | 9/11 [00:02<00:00,  3.60it/s]"
     ]
    },
    {
     "name": "stdout",
     "output_type": "stream",
     "text": [
      "INFO:httpx:HTTP Request: POST https://api.openai.com/v1/chat/completions \"HTTP/1.1 200 OK\"\n",
      "HTTP Request: POST https://api.openai.com/v1/chat/completions \"HTTP/1.1 200 OK\"\n"
     ]
    },
    {
     "name": "stderr",
     "output_type": "stream",
     "text": [
      "Extracting and inferring knowledge graph from text:  91%|█████████ | 10/11 [00:03<00:00,  4.20it/s]"
     ]
    },
    {
     "name": "stdout",
     "output_type": "stream",
     "text": [
      "INFO:httpx:HTTP Request: POST https://api.openai.com/v1/chat/completions \"HTTP/1.1 200 OK\"\n",
      "HTTP Request: POST https://api.openai.com/v1/chat/completions \"HTTP/1.1 200 OK\"\n"
     ]
    },
    {
     "name": "stderr",
     "output_type": "stream",
     "text": [
      "Extracting and inferring knowledge graph from text: 100%|██████████| 11/11 [00:03<00:00,  3.11it/s]\n",
      "Generating embeddings:   0%|          | 0/2 [00:00<?, ?it/s]"
     ]
    },
    {
     "data": {
      "application/vnd.jupyter.widget-view+json": {
       "model_id": "6c65de6dd6a7439e82775d161e0a0c78",
       "version_major": 2,
       "version_minor": 0
      },
      "text/plain": [
       "Batches:   0%|          | 0/1 [00:00<?, ?it/s]"
      ]
     },
     "metadata": {},
     "output_type": "display_data"
    },
    {
     "data": {
      "application/vnd.jupyter.widget-view+json": {
       "model_id": "4ddf7eaaadfc43da8b31e865965d4327",
       "version_major": 2,
       "version_minor": 0
      },
      "text/plain": [
       "Batches:   0%|          | 0/1 [00:00<?, ?it/s]"
      ]
     },
     "metadata": {},
     "output_type": "display_data"
    },
    {
     "data": {
      "application/vnd.jupyter.widget-view+json": {
       "model_id": "0764705896b546cb91a90c43e4927a4e",
       "version_major": 2,
       "version_minor": 0
      },
      "text/plain": [
       "Batches:   0%|          | 0/1 [00:00<?, ?it/s]"
      ]
     },
     "metadata": {},
     "output_type": "display_data"
    },
    {
     "data": {
      "application/vnd.jupyter.widget-view+json": {
       "model_id": "e6da4dafea1f46729413cd442825187d",
       "version_major": 2,
       "version_minor": 0
      },
      "text/plain": [
       "Batches:   0%|          | 0/1 [00:00<?, ?it/s]"
      ]
     },
     "metadata": {},
     "output_type": "display_data"
    },
    {
     "data": {
      "application/vnd.jupyter.widget-view+json": {
       "model_id": "cbde3f8ed28d4f93b84bbe44dd153dd1",
       "version_major": 2,
       "version_minor": 0
      },
      "text/plain": [
       "Batches:   0%|          | 0/1 [00:00<?, ?it/s]"
      ]
     },
     "metadata": {},
     "output_type": "display_data"
    },
    {
     "data": {
      "application/vnd.jupyter.widget-view+json": {
       "model_id": "262884ce018e49b9b4ff3bf679d410b7",
       "version_major": 2,
       "version_minor": 0
      },
      "text/plain": [
       "Batches:   0%|          | 0/1 [00:00<?, ?it/s]"
      ]
     },
     "metadata": {},
     "output_type": "display_data"
    },
    {
     "data": {
      "application/vnd.jupyter.widget-view+json": {
       "model_id": "f05588db50444e048d943702332d40bc",
       "version_major": 2,
       "version_minor": 0
      },
      "text/plain": [
       "Batches:   0%|          | 0/1 [00:00<?, ?it/s]"
      ]
     },
     "metadata": {},
     "output_type": "display_data"
    },
    {
     "data": {
      "application/vnd.jupyter.widget-view+json": {
       "model_id": "d728c80285814f9eb3197db40531e1d7",
       "version_major": 2,
       "version_minor": 0
      },
      "text/plain": [
       "Batches:   0%|          | 0/1 [00:00<?, ?it/s]"
      ]
     },
     "metadata": {},
     "output_type": "display_data"
    },
    {
     "data": {
      "application/vnd.jupyter.widget-view+json": {
       "model_id": "b36c636c05004a6eb24bce43f50b2472",
       "version_major": 2,
       "version_minor": 0
      },
      "text/plain": [
       "Batches:   0%|          | 0/1 [00:00<?, ?it/s]"
      ]
     },
     "metadata": {},
     "output_type": "display_data"
    },
    {
     "data": {
      "application/vnd.jupyter.widget-view+json": {
       "model_id": "efcd7342722c4fe1808e93aca9619cb8",
       "version_major": 2,
       "version_minor": 0
      },
      "text/plain": [
       "Batches:   0%|          | 0/1 [00:00<?, ?it/s]"
      ]
     },
     "metadata": {},
     "output_type": "display_data"
    },
    {
     "data": {
      "application/vnd.jupyter.widget-view+json": {
       "model_id": "f456045a2c674969a55e26eb8b6630e4",
       "version_major": 2,
       "version_minor": 0
      },
      "text/plain": [
       "Batches:   0%|          | 0/1 [00:00<?, ?it/s]"
      ]
     },
     "metadata": {},
     "output_type": "display_data"
    },
    {
     "name": "stderr",
     "output_type": "stream",
     "text": [
      "Generating embeddings: 100%|██████████| 2/2 [00:01<00:00,  1.40it/s]\n",
      "Generating embeddings:   0%|          | 0/1 [00:00<?, ?it/s]"
     ]
    },
    {
     "data": {
      "application/vnd.jupyter.widget-view+json": {
       "model_id": "6e9462ff70b44ea597cd1660f6f30442",
       "version_major": 2,
       "version_minor": 0
      },
      "text/plain": [
       "Batches:   0%|          | 0/1 [00:00<?, ?it/s]"
      ]
     },
     "metadata": {},
     "output_type": "display_data"
    },
    {
     "data": {
      "application/vnd.jupyter.widget-view+json": {
       "model_id": "bcdbb93e92c14c0e93ab3e12cd032307",
       "version_major": 2,
       "version_minor": 0
      },
      "text/plain": [
       "Batches:   0%|          | 0/1 [00:00<?, ?it/s]"
      ]
     },
     "metadata": {},
     "output_type": "display_data"
    },
    {
     "data": {
      "application/vnd.jupyter.widget-view+json": {
       "model_id": "09fe6788e6284e7db44ec7dfe0a4aed2",
       "version_major": 2,
       "version_minor": 0
      },
      "text/plain": [
       "Batches:   0%|          | 0/1 [00:00<?, ?it/s]"
      ]
     },
     "metadata": {},
     "output_type": "display_data"
    },
    {
     "data": {
      "application/vnd.jupyter.widget-view+json": {
       "model_id": "2c4803f6e3624b69894331da8f46553e",
       "version_major": 2,
       "version_minor": 0
      },
      "text/plain": [
       "Batches:   0%|          | 0/1 [00:00<?, ?it/s]"
      ]
     },
     "metadata": {},
     "output_type": "display_data"
    },
    {
     "data": {
      "application/vnd.jupyter.widget-view+json": {
       "model_id": "10b94098ef4248ee8bb449bd1ceac665",
       "version_major": 2,
       "version_minor": 0
      },
      "text/plain": [
       "Batches:   0%|          | 0/1 [00:00<?, ?it/s]"
      ]
     },
     "metadata": {},
     "output_type": "display_data"
    },
    {
     "data": {
      "application/vnd.jupyter.widget-view+json": {
       "model_id": "df4c31b07781465a944cf47ead7e78dd",
       "version_major": 2,
       "version_minor": 0
      },
      "text/plain": [
       "Batches:   0%|          | 0/1 [00:00<?, ?it/s]"
      ]
     },
     "metadata": {},
     "output_type": "display_data"
    },
    {
     "name": "stderr",
     "output_type": "stream",
     "text": [
      "Generating embeddings: 100%|██████████| 1/1 [00:01<00:00,  1.10s/it]\n"
     ]
    }
   ],
   "source": [
    "onto_index = PropertyGraphIndex.from_documents(\n",
    "    documents=[process_document(doc) for doc in graph_files],\n",
    "    llm=llm,\n",
    "    storage_context=onto_storage_context,\n",
    "    embed_kg_nodes=True,\n",
    "    kg_extractors=[kg_extractor],\n",
    "    show_progress=True,\n",
    "    graph_store=onto_store \n",
    "\n",
    ")"
   ]
  },
  {
   "cell_type": "code",
   "execution_count": 28,
   "id": "cba268ac",
   "metadata": {},
   "outputs": [
    {
     "name": "stdout",
     "output_type": "stream",
     "text": [
      "StorageContext(docstore=<llama_index.core.storage.docstore.simple_docstore.SimpleDocumentStore object at 0x000001F929E3A840>, index_store=<llama_index.core.storage.index_store.simple_index_store.SimpleIndexStore object at 0x000001F929E3A330>, vector_stores={'default': SimpleVectorStore(stores_text=False, is_embedding_query=True, data=SimpleVectorStoreData(embedding_dict={'type_model': [0.006497118156403303, -0.0020688828080892563, -0.015182276256382465, -0.023121831938624382, 0.047884006053209305, 0.0605301558971405, 0.02881375327706337, 0.021724628284573555, -0.013225730508565903, -0.02258473075926304, 0.017820823937654495, 0.038504309952259064, -0.08663015812635422, 0.07369206100702286, -0.02557627484202385, 0.06643940508365631, 0.03647017851471901, -0.015310654416680336, 0.014782678335905075, 0.019219793379306793, 0.017162563279271126, 0.005282393656671047, -0.004904784262180328, -0.0026288176886737347, -0.0372350737452507, 0.0021551556419581175, 0.0077590192668139935, -0.0010537917260080576, -0.037614837288856506, -0.026066815480589867, 0.031033262610435486, 0.0031392828095704317, -0.0028119110502302647, -0.0019164375262334943, -0.024698100984096527, 0.042256228625774384, -0.04636051133275032, -0.023324213922023773, -0.024828197434544563, -0.007529777474701405, -0.019397040829062462, -0.03134574368596077, -0.0036147921346127987, 0.041827037930488586, -0.057449232786893845, 0.017787354066967964, -0.08276617527008057, 0.030893953517079353, -0.008018788881599903, -0.041807401925325394, -0.049832623451948166, 0.00890563428401947, -0.0018969386583194137, 0.005302566569298506, 0.049517352133989334, 0.03782854601740837, -0.02594059705734253, -0.0974697545170784, 0.040342070162296295, -0.018887022510170937, 0.03004847839474678, -0.0014905353309586644, 0.03711989149451256, -0.010626347735524178, 0.03631322458386421, 0.01157120056450367, 0.02611776627600193, 0.0464375764131546, -0.06675045937299728, -0.017752252519130707, 0.012573727406561375, 0.0015619501937180758, -0.02459246851503849, -0.012454560026526451, -0.01043677981942892, -0.021693894639611244, -0.026960980147123337, 0.018985632807016373, 0.057549960911273956, 0.06559571623802185, 0.03353261202573776, 0.02945934236049652, -0.006568975280970335, -0.002716583199799061, 0.013978836126625538, -0.013907287269830704, -0.0385957732796669, -0.011970237828791142, -0.05575431510806084, 0.047920480370521545, 0.028444696217775345, -0.043402910232543945, 0.03685545548796654, 0.04592931270599365, -0.021980222314596176, -0.0033691541757434607, 0.004951216280460358, -0.018509358167648315, 0.028800630941987038, 0.012956946156919003, -0.03966934606432915, -0.0030475056264549494, -0.022975178435444832, 0.000414337933761999, -0.0888528823852539, -0.05382624641060829, -0.012712749652564526, -0.008824045769870281, -0.00597749138250947, -0.0035090558230876923, -0.05050085484981537, -0.009733338840305805, -0.04529726505279541, 0.010803635232150555, -0.07111597806215286, 0.06577759981155396, 0.0014074008213356137, -0.034403424710035324, 0.002345881424844265, 0.010489766485989094, 0.057289231568574905, 0.012989357113838196, -0.055190909653902054, 0.09828471392393112, 0.06898438930511475, 0.0420156866312027, -0.02651614509522915, 0.00998684111982584, 0.018237072974443436, -0.037940848618745804, -0.00022481588530354202, 0.07957477867603302, 0.021993130445480347, -0.018003035336732864, -0.017727436497807503, -0.021620476618409157, -0.008720595389604568, 0.039545346051454544, 0.03755556792020798, 0.02987210638821125, -0.0022678545210510492, -0.00531483069062233, -0.005825570318847895, 0.03293686732649803, 0.025625616312026978, 0.07923378050327301, -0.03993922844529152, -0.012318490073084831, 0.0065067969262599945, 0.05560816451907158, -0.030070357024669647, 0.0016223775455728173, 0.020532051101326942, -0.03168141469359398, 0.037311263382434845, 0.04572170227766037, 0.025396641343832016, 0.0065202051773667336, -0.060573723167181015, -0.02705768495798111, 0.044976744800806046, 0.014189956709742546, 0.002177781192585826, 0.044152677059173584, 0.016881851479411125, -0.023559261113405228, 0.07318058609962463, 0.023559391498565674, -0.028714854270219803, -0.020430292934179306, -0.06386855989694595, -0.07208406925201416, 0.07347289472818375, -0.014152845367789268, 0.0012275590561330318, 0.00039766725967638195, 0.07415138185024261, -0.02353348396718502, 0.05681363493204117, -0.02035045437514782, -0.11571535468101501, 0.03580392152070999, 0.007836874574422836, -0.009663011878728867, 0.0019203268457204103, -0.04589832201600075, 0.09033255279064178, 0.019628474488854408, 0.014379218220710754, 0.03504783287644386, -0.06425715237855911, -0.05430681258440018, 0.017229612916707993, -0.009766052477061749, 0.07156570255756378, -0.024965770542621613, -0.0025908092502504587, 0.048541948199272156, 0.029482267796993256, 0.023202961310744286, -0.015502440743148327, -0.007068435661494732, -0.004725205712020397, -0.03790855035185814, -0.0707646980881691, -0.007850226946175098, 0.06786169111728668, -0.01091055478900671, 0.0018156867008656263, 0.04067409783601761, -0.04037746042013168, -0.02890799567103386, 0.007577318232506514, -0.011414840817451477, 0.012500644661486149, 0.03701678663492203, -0.005586009938269854, -0.04468860477209091, -0.030971605330705643, -0.017714787274599075, 0.04550768435001373, 0.0328858345746994, -0.07020805776119232, -0.030367981642484665, -0.025165410712361336, 0.09914974868297577, 0.07254395633935928, -0.002164939185604453, -0.0168316587805748, 0.017833203077316284, 0.00876017939299345, -0.0034354401286691427, 0.029741372913122177, -0.04390989616513252, -0.01646309159696102, 0.008089886046946049, -0.008048736490309238, -0.013995207846164703, 0.028830762952566147, -0.04104684665799141, 0.013918627053499222, 0.043989624828100204, -0.07116252928972244, 0.03882051259279251, -0.012754195369780064, -0.005811858456581831, -0.016591085121035576, -0.03353533148765564, -0.08256936073303223, -0.03040698543190956, -0.03175703436136246, 0.013714838773012161, -0.011462176218628883, -0.056680887937545776, 0.004208208993077278, -0.05202392116189003, -0.024030011147260666, 0.009668128564953804, 0.05188104510307312, 0.05259120091795921, -0.048159319907426834, 0.0346425361931324, -0.03782500699162483, 0.026789717376232147, -0.036698829382658005, -0.052659131586551666, -0.030008742585778236, -0.009691137820482254, 0.05375123769044876, -0.03813084959983826, 0.047786321491003036, 0.022692393511533737, -0.03588741645216942, 0.02221211977303028, 0.05748814344406128, 0.0470149889588356, 0.039362139999866486, 0.0008458982338197529, -0.012475105933845043, -0.017273912206292152, -0.030492568388581276, 0.044668830931186676, -0.010725723579525948, -0.03374442830681801, -0.009063486009836197, -0.051193803548812866, -0.015577091835439205, -0.03857620805501938, -0.016537673771381378, -0.038730960339307785, -0.0042244428768754005, 0.024238796904683113, 0.017110515385866165, 0.01208504568785429, 0.028048358857631683, 0.015330755151808262, 0.016759995371103287, 0.043109990656375885, 0.03267158195376396, 0.045471545308828354, 0.006893242709338665, 0.044196031987667084, -0.002172957407310605, -0.0010314828250557184, 0.016788741573691368, -0.021092301234602928, -0.013080758973956108, -0.03575378656387329, -0.26138097047805786, -0.008530402556061745, -0.0427454449236393, -0.023088503628969193, 0.022669028490781784, -0.005868946667760611, 0.06673071533441544, -0.033113982528448105, -0.012012035585939884, 0.01548855472356081, 0.01018910389393568, 0.0061822026036679745, 0.006465165875852108, 0.012462344020605087, 0.02132067084312439, 0.03669094294309616, -0.036332231014966965, -0.04408654198050499, 0.009313180111348629, 0.021787244826555252, -0.011120309121906757, -0.04247559234499931, -0.03766366466879845, 0.022863641381263733, -0.016344605013728142, 0.04839170724153519, -0.04104352369904518, -0.030229885131120682, -0.029109302908182144, -0.031763091683387756, 0.02778627909719944, -0.049807604402303696, 0.015409103594720364, 0.0016455741133540869, 0.029141047969460487, -0.03398396447300911, 0.030373837798833847, -0.008332447148859501, -0.018261399120092392, -0.03734489902853966, -0.010456936433911324, 0.006277814507484436, -0.00967156607657671, -0.004602758213877678, 0.06011518836021423, -0.016130102798342705, -0.019756119698286057, 0.0014173784293234348, 0.013446365483105183, 0.0848187655210495, -0.04036543518304825, -0.0034316377714276314, -0.008722463622689247, 0.026122597977519035, 0.02366437390446663, 0.04024931788444519, -0.0041462695226073265, 0.050374582409858704, -0.012287876568734646, 0.022248921915888786, 0.015783244743943214, -0.030460894107818604, -0.026254232972860336, -0.04501975327730179, -0.022193118929862976, -0.02122366800904274, -0.04305875301361084, -0.07573658972978592, 0.04876087233424187, 0.0281740203499794, -0.04150780290365219, 0.05025484040379524, -0.01345449686050415, -0.08134959638118744, 0.0028090516570955515, -0.034003306180238724, 0.015887783840298653, -0.0028713892679661512, -0.02262447401881218, 0.029991453513503075, -0.03890390694141388, -0.024756209924817085, 0.005780872423201799, 0.01937464065849781, 0.03212369978427887, -0.042630914598703384, -0.0059869540855288506, -0.04646662250161171, -0.014350757002830505, -0.038953427225351334, 0.018165960907936096, -0.018095970153808594, 0.011291207745671272, 0.016907477751374245, 0.020558638498187065, 0.020534401759505272, 0.009038382209837437, 0.020108545199036598, 0.03195352852344513, 0.03621155023574829, 0.01782691851258278, -0.057900719344615936, 0.01021850947290659, -0.07824920862913132, 0.006445871200412512, -0.020464090630412102, -0.0619518868625164, -0.05710988864302635, 0.021756917238235474, -0.02838333323597908, 0.010346006602048874, 0.01220539677888155, 0.000349283596733585, -0.0450793132185936, -0.017501499503850937, -0.05762452632188797, -0.0033047765027731657, 0.03259396180510521, 0.039540525525808334, -0.011865022592246532, -0.04278627783060074, 0.05053302273154259, -0.048758625984191895, 0.00020552930072881281, -0.09086229652166367, -0.024363549426198006, -7.974894833751023e-05, 0.021194690838456154, -0.027189800515770912, -0.01457345299422741, -0.008978582918643951, 0.05727095529437065, 0.017827851697802544, 0.02876301109790802, 0.00028997677145525813, 0.03665849193930626, -0.048500947654247284, -0.017237817868590355, 0.0360293947160244, -0.00838782824575901, 0.010615214705467224, -0.02080634981393814, 0.002436717040836811, 0.038243189454078674, 0.0003633962769526988, 0.01447994727641344, 0.01434930320829153, -0.02137225680053234, 0.03109339252114296, 0.003444102592766285, 0.0027478437405079603, 0.00896055344492197, -0.006319357547909021, -0.06253457069396973, -0.02616276405751705, 0.0038430760614573956, 0.06153686344623566, 0.0012796693481504917, 0.005252189002931118, -0.05731206014752388, -0.004065490793436766, -0.028880663216114044, 0.013936308212578297, 0.016058245673775673, 0.004855523817241192, 0.0779409259557724, 0.045543134212493896, -0.015813615173101425, 0.018326904624700546, 0.029916778206825256, 0.02023717574775219, 0.00025277031818404794, 0.01051329355686903, -0.007901148870587349, 0.008314319886267185, 0.015120202675461769, 0.015351531095802784, 0.028024835512042046, 0.021923042833805084, 0.041677676141262054, -0.042207878082990646, -0.027944358065724373, 0.02077348157763481, 0.058482278138399124, 0.05167359858751297, -0.011618929915130138, -0.0016525104874745011, -0.031182322651147842, 0.04209793359041214, 0.01262061856687069, -0.01809179037809372, 0.025318410247564316, -0.0036195567809045315, 0.015987079590559006, -0.03439586982131004, -0.08354731649160385, 0.002014396246522665, 0.07523460686206818, -0.008464425802230835, -0.010682264342904091, -0.001642015646211803, 0.013684243895113468, -0.003021554322913289, -0.017867671325802803, 0.05101616680622101, -0.0604206919670105, 0.0033419153187423944, 0.012843793258070946, -0.019813358783721924, 0.006651905830949545, -0.008677924051880836, -0.03693049028515816, -0.040018316358327866, -0.008928812108933926, 0.0014917096123099327, 0.004377753008157015, -0.0054236361756920815, 0.005664320196956396, 0.025392793118953705, -0.012485617771744728, 0.027348671108484268, 0.01251969113945961, 0.042465876787900925, -0.015471474267542362, -0.036592911928892136, 0.018101951107382774, 0.02760629542171955, 0.03592188283801079, 0.022253703325986862, -0.010782670229673386, 0.06991895288228989, -0.029510723426938057, -0.011733203195035458, 0.04680110886693001, 0.021054958924651146, 0.0168480072170496, 0.009907932952046394, 0.034615058451890945, -0.00988183356821537, 0.015645595267415047, -0.03226305916905403, 0.03889096528291702, -0.029490016400814056, -0.02684156224131584, 0.00932698231190443, 0.004808081779628992, 0.004923397209495306, -0.0075653791427612305, -0.00621711416170001, 0.036340054124593735, 0.01047271303832531, 0.03235691040754318, -0.028002850711345673, -0.014624383300542831, 0.04277097433805466, -0.02359188161790371, -0.016586313024163246, 0.019039059057831764, -0.03561932593584061, 0.04320211336016655, -0.009204779751598835, 0.0493529736995697, -0.025615287944674492, 0.041017353534698486, 0.06891243904829025, 0.03650343790650368, 0.010710510425269604, -0.04118622466921806, 0.015444179065525532, -0.03827141225337982, 0.008019561879336834, -0.04830184578895569, 0.0011595012620091438, 0.014302782714366913, -0.025967607274651527, -0.055954430252313614, 0.018189705908298492, -0.03848060965538025, -0.021689726039767265, -0.06849019974470139, -0.049344394356012344, 0.025071946904063225, -0.018743474036455154, 0.004323073197156191, -0.017623793333768845, -0.06284826993942261, -0.021893160417675972, -0.02107281982898712, -0.04426714777946472, -0.033855631947517395, 0.021311858668923378, 0.042100824415683746, -0.025411739945411682, 0.010283843614161015, 0.011127680540084839, -0.012321867980062962, 0.03317684680223465, 0.05958689749240875, 0.0024844761937856674, 0.01970013789832592, -0.026962455362081528, 0.07390695065259933, 0.01437110360711813, 0.02967832051217556, 0.024487219750881195, 0.0010531431762501597, -0.0026431044097989798, -0.03642815724015236, -0.030376823619008064, 0.037974536418914795, -0.04175002872943878, -0.023479821160435677, 0.054359760135412216, 0.02562965266406536, -0.04434194415807724, -0.023454269394278526, -0.015030080452561378, -0.06528427451848984, -0.040343526750802994, 0.00017880862287711352, 0.028030304238200188, -0.0041421279311180115, 0.08261393010616302, 0.03407837450504303, 0.03440198302268982, 0.050821177661418915, -0.025757355615496635, 0.03362487256526947, 0.03123982809484005, 0.057033997029066086, 0.07913286238908768, -0.021152112632989883, 0.009693008847534657, 0.062465518712997437, -0.0037842136807739735, -0.04701906815171242, 0.014445323497056961, -0.005103645846247673, -0.012265135534107685, 0.017698567360639572, -0.04126556217670441, 0.07665729522705078, 0.04197995737195015, 0.056174520403146744, -0.007737426552921534, 0.06597135215997696, -0.005490774754434824, -0.005140725523233414, 0.013460809364914894, 0.01525044534355402, 0.0289901290088892, 0.0012830934720113873, -0.06636352837085724, -0.03637736663222313, -0.03574701026082039, 0.019369350746273994, -0.03356068953871727, -0.005280959419906139, -0.04230625927448273, 0.003044617362320423, 0.0008674740674905479, -0.0032887624111026525, 0.05321436747908592, -0.013872272334992886, -0.023359812796115875, -0.024439293891191483, 0.003205102402716875, -0.015010742470622063, 0.039026618003845215, -0.009580828249454498, -0.01598827913403511, -0.012892323546111584, -0.04911712929606438, 0.0321471132338047, -0.0019428636878728867, -0.02786979265511036, 0.017008434981107712, -0.012717737816274166, -0.04652229696512222, 0.03034871816635132, -0.00656932033598423, -0.029859768226742744, -0.05902216210961342, -0.07357550412416458, -0.014685407280921936, -0.07392926514148712, -0.005293314810842276, -0.027385996654629707, -0.009503459557890892, -0.027759620919823647, -0.02853088080883026, -0.006926828064024448, 0.03263872489333153, -0.005666280630975962, -0.057185281068086624, -0.020743416622281075, 0.02276541106402874, 0.0005565210594795644, -0.02832094021141529, 0.032804716378450394, 0.05984286591410637, -0.0021855891682207584, 0.004850171040743589, -0.013472096063196659, 0.004204122815281153, 0.048436760902404785, 0.03680013492703438, -0.0055357166565954685, -0.07636556029319763, 0.024903476238250732, 0.05206729471683502, -0.01628655567765236, -0.0643719807267189, 0.001918693771585822, 0.03300908952951431, 0.009864943102002144, 0.04055432975292206, 0.01687450520694256, -0.0032230897340923548, -0.01635425165295601, -0.03117157332599163, -0.001812021597288549, 0.016526520252227783, 0.04846734553575516, -0.0022596828639507294, 0.06912681460380554, 0.0533713772892952, -0.01421433873474598, -0.028724975883960724, 0.023465799167752266, 0.030981438234448433, 0.01382555440068245, -0.04535691440105438, 0.0009502718457952142, -0.0232919380068779, -0.10524506866931915, 0.02577233873307705, -0.007966362871229649, 0.0017337367171421647, -0.05095075070858002, -0.01923990063369274, -0.057405781000852585, 0.05195441469550133, -0.006978538352996111, -0.055058348923921585, -0.0029940390959382057, 0.01250325608998537, -0.04079378396272659, -0.07965866476297379, -0.019713090732693672, 0.030187802389264107, 0.01694195158779621, -0.04540276154875755, -0.05543486773967743, -0.003616848262026906, -0.053123846650123596, 0.029332980513572693, 0.014725537970662117, 0.03916668891906738, 0.03188956156373024], 'Clustering': [-0.007822657003998756, -0.011091173626482487, -0.009356941096484661, -0.012323765084147453, 0.05854412168264389, 0.06538167595863342, -0.006564642768353224, 0.00995030626654625, -0.015019549988210201, -0.014823706820607185, 0.003595021553337574, 0.020677054300904274, -0.06932620704174042, 0.06541991233825684, -0.03405115753412247, 0.060892291367053986, 0.03896148130297661, 0.007910245098173618, 0.007020363584160805, 0.012677768245339394, 0.014971080236136913, -0.015008236281573772, 0.006668833550065756, 0.007239470724016428, 0.014882952906191349, 0.008903056383132935, 0.01763731800019741, 0.03245672211050987, -0.026626454666256905, 0.0011921512195840478, 0.032506536692380905, 0.031028851866722107, 0.02793753519654274, 0.025655759498476982, 0.02463056519627571, -0.027630427852272987, -0.0420842319726944, -0.004252391867339611, 0.009570268914103508, 0.0051767402328550816, -0.01373663917183876, -0.023968910798430443, 0.016561275348067284, 0.052978478372097015, -0.031840816140174866, -0.003593905596062541, -0.12093356996774673, 0.021921485662460327, -0.02605871483683586, -0.030075374990701675, -0.040575385093688965, 0.007458887994289398, 0.00811500009149313, 0.008991127833724022, 0.016358494758605957, 0.039818547666072845, -0.006119470112025738, -0.08090296387672424, 0.05926983803510666, -0.02444765716791153, -0.001331457868218422, -0.010249806568026543, 0.01816273294389248, 0.010899676941335201, -0.0012145234504714608, 0.006563977338373661, 0.017546072602272034, 0.06935989856719971, -0.06004640460014343, -0.016838200390338898, 0.02105807326734066, 0.005821733269840479, -0.035823922604322433, -0.018191060051321983, 0.004689191933721304, -0.024060847237706184, -0.01107662171125412, -0.012646060436964035, 0.040286485105752945, 0.01979140192270279, 0.0035749459639191628, 0.02987639233469963, -0.041614919900894165, 0.028781937435269356, 0.01698092184960842, -0.04054642468690872, -0.07525239884853363, -0.012221123091876507, -0.06530645489692688, 0.039175402373075485, 0.0328475721180439, -0.01362523715943098, 0.01916404813528061, 0.05887845531105995, 0.017397096380591393, -0.02928769774734974, 0.026073595508933067, -0.009785616770386696, 0.027749735862016678, -0.008325232192873955, -0.03459640219807625, 0.02412627451121807, -0.05630353093147278, 0.024187840521335602, -0.06001661345362663, -0.013428974896669388, -0.003627366852015257, 0.022515280172228813, -0.02836594171822071, -0.03220240771770477, -0.04299453645944595, -0.009024413302540779, -0.006712744012475014, 0.031114626675844193, -0.03859875351190567, 0.05188492313027382, 0.023539120331406593, -0.05128686875104904, -0.01913783699274063, -0.00778985908254981, 0.04056355729699135, 0.06430549919605255, -0.03770129010081291, 0.09468337148427963, 0.01590931974351406, 0.011937974020838737, -0.011373979039490223, 0.04315011575818062, -0.008652891032397747, -0.022098097950220108, 0.0021880127023905516, 0.04664531722664833, 0.032245490700006485, -0.005600455217063427, -0.02210943214595318, -0.03597161918878555, -0.0014600876020267606, 0.023707076907157898, 0.03274261951446533, 0.008759025484323502, 0.023745689541101456, -0.035131849348545074, -0.01735329069197178, 0.05037149786949158, 0.026386979967355728, 0.03151975944638252, -0.05540723353624344, -0.04517699405550957, 0.007025544997304678, 0.04269469901919365, -0.040353670716285706, -0.022772278636693954, -0.0074919057078659534, -0.04704638943076134, 0.009029501117765903, 0.04552615433931351, 0.027711527422070503, 0.02353763021528721, -0.04598454385995865, 0.0034520956687629223, 0.018038388341665268, 0.005637733265757561, -0.02041529305279255, 0.03491386026144028, 0.020298773422837257, -0.04928267002105713, 0.08924269676208496, 0.034468282014131546, -0.019845345988869667, 0.032962627708911896, -0.047653909772634506, -0.07390013337135315, 0.05604929476976395, -0.011185480281710625, -0.01668677292764187, -0.04253984987735748, 0.07943272590637207, -0.010836710222065449, 0.04200029745697975, 0.014719102531671524, -0.08505231887102127, 0.00815490074455738, -0.009609442204236984, 0.012707104906439781, -0.005485900677740574, -0.04279707744717598, 0.06302688270807266, 0.0007080571376718581, 0.01802746392786503, 0.02982073463499546, -0.04164401814341545, -0.077753946185112, 0.032032109797000885, 0.033677566796541214, 0.03733311593532562, 0.0022285592276602983, 0.023149587213993073, 0.015780316665768623, 0.015397747047245502, -0.009535008110105991, -0.027187205851078033, -0.005653799045830965, 0.03857507184147835, -0.05280135199427605, -0.028308432549238205, 0.009700766764581203, 0.06136000528931618, -0.04398553818464279, -0.021797366440296173, 0.023904822766780853, -0.049566369503736496, -0.008225525729358196, 0.016302717849612236, -0.036302972584962845, 0.05319952592253685, 0.029401084408164024, 0.009511292912065983, -0.0012890632497146726, 0.001678337692283094, -0.020219769328832626, 0.02130194567143917, -0.000483864190755412, -0.05424397066235542, 0.014785600826144218, 0.002880458254367113, 0.12328493595123291, 0.11514533311128616, -0.03204144909977913, 0.0027548116631805897, 0.01485200971364975, -0.028175441548228264, 0.005111606791615486, 0.01792878657579422, -0.035599932074546814, -0.05921581760048866, 0.03822633624076843, -0.04599080607295036, -0.03353041410446167, 0.027109410613775253, -0.06144868582487106, -0.016172895208001137, 0.031986478716135025, -0.05774771422147751, 0.03539272025227547, 0.035567156970500946, -0.00709992041811347, 0.03831762447953224, -0.032048001885414124, -0.06932026892900467, -0.035909704864025116, -0.02501659095287323, 0.007322820834815502, -0.025172751396894455, -0.04939417168498039, 0.03361983597278595, -0.06121796742081642, 0.038900990039110184, -0.015315690077841282, 0.05740619823336601, 0.06339232623577118, -0.04612383618950844, 0.06789267808198929, -0.020173031836748123, -0.014695387333631516, -0.01842467300593853, -0.05731156840920448, -0.08485735952854156, -0.01571173407137394, 0.03807900473475456, -0.06185903400182724, 0.005812623538076878, -0.001156018814072013, -0.004190932027995586, 0.02813849411904812, 0.004553886596113443, 0.018760662525892258, 0.021077275276184082, -0.04755560681223869, -0.005900611635297537, -0.0013784276088699698, -0.01158891525119543, 0.025696003809571266, -0.023411747068166733, -0.024151192978024483, -0.02780449576675892, -0.057173293083906174, -0.01004865299910307, -0.04470468685030937, -0.015892216935753822, -0.014468309469521046, -0.010901452042162418, 0.02810816839337349, 0.036309003829956055, 0.006543856114149094, 0.04002616927027702, 0.0179557204246521, 0.017774390056729317, 0.019988633692264557, 0.011341840028762817, 0.0062248134054243565, -0.01933053880929947, 0.05667358636856079, -0.020941510796546936, -0.011569040827453136, -0.027317268773913383, 0.00428817979991436, -0.03220111131668091, -0.03275683894753456, -0.2291954606771469, 0.005055765621364117, -0.0320175401866436, 0.011461678892374039, 0.05080719292163849, 0.004127634223550558, 0.0423663854598999, -0.05903251841664314, 0.002314493991434574, -0.03227737918496132, -0.0307315643876791, 0.03564676642417908, 0.013016396202147007, 0.016708580777049065, 0.019821448251605034, 0.009993321262300014, -0.04077550396323204, -0.02609069086611271, 0.023512886837124825, 0.011210424825549126, -0.008552475832402706, -0.017985468730330467, -0.036578308790922165, 0.026497555896639824, -0.006858516484498978, 0.04622318968176842, -0.02082848735153675, -0.006498359609395266, -0.04383501783013344, -0.03846784308552742, -0.009309347718954086, -0.02643788419663906, 0.0303265992552042, 0.0018813053611665964, 0.02709149941802025, -0.02313394285738468, 0.030476976186037064, -0.03437862545251846, -0.04434192180633545, -0.009096368215978146, 0.023515447974205017, 0.010728009045124054, -0.026941923424601555, 0.015375476330518723, 0.04791849106550217, -0.007197191007435322, -0.0354837067425251, -0.015438321977853775, 0.027759520336985588, 0.07750926911830902, -0.02969372272491455, 0.003340760711580515, -0.04672403633594513, -0.01650557853281498, -0.022214602679014206, -0.0010692758951336145, -0.04341661185026169, 0.0684531182050705, 0.008854160085320473, -0.007064745295792818, 0.014570996165275574, -0.06112213432788849, 0.021353647112846375, -0.077744260430336, -0.014603137969970703, -0.06229950487613678, -0.07366185635328293, -0.047804951667785645, 0.05615393444895744, 0.030974579975008965, -0.03666440024971962, 0.03865966945886612, -0.051633551716804504, -0.085826575756073, -0.0061117904260754585, 0.003006173064932227, -0.007393076550215483, -0.013822763226926327, -0.04114362224936485, 0.06512218713760376, -0.04381521791219711, -0.008875612169504166, -0.009427258744835854, 0.012454289011657238, 0.005109898280352354, -0.06815554201602936, -0.014280328527092934, -0.023623289540410042, -0.015185375697910786, -0.03006676584482193, 0.009878505952656269, -0.016814572736620903, -0.04686304181814194, 0.022526230663061142, 0.026444947347044945, 0.05177886784076691, 0.010932712815701962, 0.03391474112868309, 0.024407465010881424, 0.02048228308558464, 0.04728538170456886, -0.05448086932301521, 0.0025051299016922712, -0.06204335391521454, -0.008717009797692299, 0.028794318437576294, -0.050676584243774414, -0.021261872723698616, 0.028740404173731804, 0.004022279754281044, 5.332652654033154e-05, 0.009521529078483582, 0.014631715603172779, -0.0396047867834568, 0.05454616621136665, -0.0731358751654625, -0.011201699264347553, 0.017834385856986046, 0.06645647436380386, 0.009948859922587872, -0.05700095370411873, 0.011634369380772114, 0.002571005839854479, -0.013512328267097473, -0.06697183847427368, -0.025128066539764404, 0.013815398328006268, -0.031086686998605728, 0.035208866000175476, -0.0140099311247468, 0.01978754810988903, 0.037636127322912216, 0.03326565399765968, 0.044699251651763916, 0.023792030289769173, -0.006766711361706257, -0.05284702777862549, -0.04190918430685997, 0.014391693286597729, 0.020635059103369713, 0.02165060117840767, -0.01206782553344965, 0.040013860911130905, 0.05715972185134888, 0.016898488625884056, 0.017954276874661446, -0.022942576557397842, -0.052475281059741974, 0.034974757581949234, -0.017015565186738968, 0.005009607411921024, 0.029284901916980743, 0.011835519224405289, -0.02187899686396122, -0.029124217107892036, -0.0092607531696558, 0.04733569920063019, 0.03348970413208008, -0.021739991381764412, -0.023259345442056656, -0.0021267379634082317, -0.012584497220814228, 0.023895226418972015, 0.006348093971610069, 0.007372532971203327, 0.058635834604501724, 0.023556426167488098, 0.022232765331864357, -0.005697058513760567, 0.03694804757833481, 0.028453383594751358, -0.015005729161202908, -0.041877467185258865, 0.004898142535239458, -0.0017097447998821735, 0.010367280803620815, 0.009045040234923363, 0.03628724068403244, -0.011203956790268421, 0.029688341543078423, -0.05884357914328575, -0.024660995230078697, -0.013050729408860207, 0.028452765196561813, 0.04917632415890694, 0.02362188883125782, 0.01496522594243288, -0.04872416332364082, 0.02202633209526539, 0.04257006570696831, 0.008900939486920834, -0.00016847423103172332, 0.012794741429388523, 0.03270561620593071, -0.008937220089137554, -0.09996847808361053, 0.04072602093219757, 0.09218978881835938, -0.03971162810921669, 0.0017781612696126103, -0.02253490686416626, 0.04005218669772148, -0.017244821414351463, 0.01317374687641859, 0.08073846995830536, -0.03822363168001175, 0.03686228021979332, -0.02347949706017971, -0.011803310364484787, 0.005257809534668922, 0.01094005722552538, -0.07161886990070343, -0.04572853073477745, -0.01559558417648077, 0.0318589061498642, 0.005236417055130005, -0.022570554167032242, -0.012237390503287315, 0.05929802358150482, -0.020146194845438004, 0.018375983461737633, 0.00816586147993803, 0.012922084890305996, -0.002347314963117242, -0.008971546776592731, 0.05809422954916954, 0.007352915126830339, -0.013101323507726192, -0.004999923519790173, 0.01115977019071579, 0.04449120908975601, -0.021072816103696823, -0.012276571244001389, 0.051620807498693466, -0.008658676408231258, -0.003891715547069907, -0.008096775971353054, 0.01961224526166916, -0.006612213794142008, 0.04332699254155159, 0.0025348158087581396, 0.018693942576646805, -0.004788568709045649, -0.020067613571882248, -0.009797191247344017, -0.012118814513087273, -0.018714169040322304, 0.015167909674346447, 0.003312821267172694, 0.03400547802448273, -0.004206674639135599, 0.022148404270410538, -0.05517156422138214, -0.029968159273266792, 0.06321637332439423, -0.013876983895897865, -0.036569491028785706, -0.042230550199747086, -0.016664976254105568, 0.005528909619897604, -0.018640819936990738, 0.0007216152152977884, 0.012746332213282585, 0.014078773558139801, 0.03176811337471008, 0.016991274431347847, -0.030000723898410797, -0.03479563817381859, 0.03355252742767334, -0.06540956348180771, 0.010721300728619099, -0.05309854447841644, 0.007200131192803383, 0.0494745634496212, -0.02956395037472248, -0.02581547200679779, 0.03929361701011658, -0.03763676434755325, -0.04185498505830765, -0.05285829305648804, -0.06148781254887581, 0.007735158782452345, -0.006684162653982639, 0.022024938836693764, 0.0028900145553052425, -0.05052383244037628, -0.00809230376034975, -0.0044432831928133965, -0.06492792069911957, -0.012425671331584454, 0.027424093335866928, 0.036932315677404404, -0.019897207617759705, 0.01138229202479124, 0.021415041759610176, -0.04608357325196266, 0.05020638555288315, 0.0703614354133606, -0.009771613404154778, 0.0406881682574749, -0.04198377951979637, 0.061221618205308914, 0.03381198272109032, -0.04739639535546303, -0.010702396742999554, 0.011955018155276775, 0.004190016072243452, -0.03258182480931282, -0.030435290187597275, 0.03142416477203369, -0.017605479806661606, -0.028803862631320953, 0.05797900632023811, 0.021855855360627174, -0.07450901716947556, -0.025143936276435852, -0.0008781682699918747, -0.0651409700512886, 0.005116624291986227, 0.0038354473654180765, 0.04265321418642998, 0.02151934616267681, 0.08344867080450058, 0.003747117007151246, 0.050999779254198074, 0.07000323385000229, -0.004624932073056698, 0.033279724419116974, 0.04975075274705887, 0.04778897389769554, 0.04195430129766464, -0.023250993341207504, 0.021660005673766136, 0.049314964562654495, -0.04163039103150368, -0.041130878031253815, 0.011706438846886158, -0.01878518983721733, -0.019991591572761536, 0.04347125068306923, -0.02225627936422825, 0.09525422751903534, 0.05390872806310654, 0.07449562102556229, -0.015050643123686314, 0.022212069481611252, 0.014789741486310959, -0.0036946022883057594, 0.026760214939713478, -0.032950181514024734, -0.008967755362391472, 0.024283330887556076, -0.04716113209724426, -0.03396550938487053, -0.007461932487785816, 0.04340584576129913, -0.008932394906878471, -0.006295648869127035, -0.0359172523021698, 0.015430486761033535, 0.024229085072875023, 0.007849025540053844, 0.060935791581869125, 0.02930484153330326, -0.016533832997083664, 0.009920468553900719, 0.011292120441794395, -0.019095202907919884, 0.036438118666410446, 0.010622273199260235, 0.024249183014035225, -0.03399753198027611, -0.04076626896858215, -0.0018488229252398014, -0.00514731602743268, -0.011936411261558533, 0.015003925189375877, 0.002330370480194688, -0.03771255910396576, 0.01415129005908966, 0.03818689286708832, -0.025226958096027374, -0.03598808869719505, -0.057956263422966, -0.03277688845992088, -0.053123317658901215, -0.030426790937781334, 0.006164914462715387, 0.00047977713984437287, -0.013173532672226429, -0.011006271466612816, -0.027459001168608665, 0.038182299584150314, -0.05228167772293091, -0.06301768869161606, 0.02485821582376957, 0.05032720789313316, 0.04471708834171295, 0.04323527589440346, 0.02497030422091484, 0.04763440042734146, -0.040748175233602524, -0.0231041107326746, 0.005223357118666172, -0.012597962282598019, 0.03764375299215317, 0.01537444069981575, 0.0021081988234072924, -0.07232778519392014, 0.019675463438034058, 0.024545520544052124, 0.0076086390763521194, -0.07510317116975784, 0.02243660017848015, 0.04176544025540352, 0.019441911950707436, 0.015764011070132256, 0.014608480967581272, -0.026334276422858238, 0.0003477008722256869, 0.0034994541201740503, -0.011548655107617378, -0.0068862661719322205, 0.06446804851293564, -0.030701836571097374, 0.0685076117515564, 0.057477839291095734, 0.011746490374207497, -0.04188942164182663, 0.01374804601073265, 0.0024251393042504787, 0.020569710060954094, -0.0393751822412014, -0.02385903149843216, -0.023143187165260315, -0.12909965217113495, 0.009317002259194851, -0.009426914155483246, -0.0029830571729689837, -0.046277422457933426, 0.016120128333568573, -0.053634826093912125, -0.012358667328953743, 0.00619247043505311, -0.04886552318930626, 0.009277546778321266, 0.024465113878250122, -0.05135422945022583, -0.058514997363090515, -0.043582022190093994, -0.022395849227905273, 0.0017618886195123196, -0.016556918621063232, -0.03204887732863426, -0.022236168384552002, -0.04590369388461113, 0.020029043778777122, 0.019565235823392868, 0.05373114347457886, 0.010454424656927586], 'Regression': [0.015787821263074875, 0.011112134903669357, -0.004142903722822666, -0.04068180173635483, 0.06841006129980087, 0.08720140159130096, 0.04878142103552818, -0.018224934116005898, -0.026355668902397156, -0.0015732988249510527, 0.005780361592769623, 0.06578827649354935, -0.06845993548631668, 0.0726957693696022, -0.04287746921181679, 0.037010133266448975, 0.07431680709123611, -0.003942899405956268, 0.012108220718801022, 0.018135270103812218, 0.01992887258529663, -0.0319363996386528, -0.002760869450867176, 0.01686706580221653, -0.02122739516198635, -0.00295533100143075, 0.002467459300532937, 0.0139381168410182, -0.047370780259370804, 0.004798335954546928, 0.03378497436642647, 0.01648627407848835, 0.007898978888988495, -0.015369934029877186, -0.009238016791641712, 0.06116403266787529, -0.013115588575601578, 0.007847397588193417, -0.03310369327664375, 0.021317793056368828, -0.028626246377825737, -0.05373118072748184, -0.014216585084795952, 0.036813993006944656, -0.06660163402557373, -0.016370657831430435, -0.09418340027332306, 0.03210078924894333, -0.009719505906105042, -0.018997391685843468, -0.06965132057666779, 0.04624206945300102, 0.0212797150015831, -0.009783221408724785, 0.02908378280699253, 0.03997938334941864, 0.01966620609164238, -0.06359026581048965, 0.007712149526923895, -0.024289079010486603, 0.025006355717778206, 0.02126605622470379, 0.028780989348888397, -0.013293404132127762, 0.024120939895510674, 0.02480863779783249, 0.050210170447826385, 0.051718465983867645, -0.061125628650188446, -0.022327201440930367, 0.00968143530189991, 0.01046318281441927, -0.04963754490017891, -0.025234336033463478, -0.010506654158234596, -0.025052495300769806, -0.01479465700685978, -0.009437387809157372, 0.06594520062208176, 0.025382326915860176, 0.036575086414813995, 0.009272665716707706, -0.012609251774847507, -0.015393455512821674, 0.014826761558651924, -0.00991797260940075, -0.029317783191800117, -0.03484974056482315, -0.03409753367304802, 0.03428078815340996, 0.0406019426882267, -0.042292747646570206, 0.022433843463659286, 0.0623374879360199, -0.034858498722314835, -0.015714839100837708, 0.030995571985840797, -0.02674289047718048, 0.023889942094683647, -0.002094077179208398, -0.048648346215486526, -0.011102298274636269, -0.00432594632729888, 0.03951352834701538, -0.06723088771104813, -0.02676457166671753, -0.002877071499824524, -0.006119502708315849, 0.006599214393645525, -0.033469196408987045, -0.030320685356855392, 0.03392566740512848, -0.016344139352440834, -0.0033677276223897934, -0.06892509758472443, 0.0402221716940403, -0.006755457259714603, -0.02465531975030899, -0.011800909414887428, 0.006667963694781065, 0.03091118112206459, 0.020123761147260666, -0.03733435273170471, 0.07908208668231964, 0.013007446192204952, 0.04187345132231712, 0.008326618932187557, 0.032884079962968826, 0.023823007941246033, -0.021911408752202988, -0.007057616952806711, 0.028815383091568947, 0.029748044908046722, -0.021351100876927376, -0.030080551281571388, -0.0292741097509861, 0.014966487884521484, 0.03748597949743271, 0.03263680636882782, 0.02153039164841175, 0.02949219010770321, -0.007518249098211527, -0.01363333035260439, -0.004657061770558357, 0.046110332012176514, 0.04302619770169258, -0.0393688827753067, 0.004382168408483267, -0.02808423340320587, 0.0604277066886425, -0.0010186797007918358, 0.014704473316669464, 0.04274776205420494, -0.053739409893751144, 0.023853953927755356, 0.00833270326256752, 0.028854673728346825, 0.0013575168559327722, -0.06540969014167786, -0.011980414390563965, 0.03102889098227024, 0.0183882936835289, 0.03246036544442177, 0.02659929357469082, -0.010409900918602943, 0.0006738544325344265, 0.09274953603744507, 0.008558174595236778, -0.054282236844301224, -0.01256241463124752, -0.05570584908127785, -0.05313891917467117, 0.06713876128196716, -0.022858096286654472, -0.02858521044254303, -0.0489952526986599, 0.061937157064676285, -0.03261347860097885, 0.06404826790094376, -0.001179149141535163, -0.10409949719905853, 0.04543681442737579, 0.020303355529904366, -0.012422114610671997, 0.019822441041469574, -0.0525391586124897, 0.08529161661863327, -0.004860222339630127, 0.04878072440624237, 0.016187380999326706, -0.06118914484977722, -0.08779624849557877, 0.00700513506308198, -0.0046583847142755985, 0.0485217459499836, -0.01807449199259281, -0.00293915462680161, 0.021804409101605415, 0.006661606952548027, 0.0024776970967650414, -0.031935762614011765, -0.008962024003267288, 0.05300672724843025, -0.0203635822981596, -0.05742431432008743, -0.008056175895035267, 0.0489763505756855, -0.004123608116060495, -0.009381208568811417, 0.06629239767789841, -0.044919807463884354, -7.107318378984928e-05, 0.012886886484920979, -0.029601557180285454, 0.027404241263866425, 0.04454098641872406, -0.03851022198796272, 0.01925683580338955, -0.04309668764472008, -0.021646514534950256, -0.0207228921353817, 0.024565909057855606, -0.05755797028541565, 0.004202319774776697, 0.0011994645465165377, 0.10014775395393372, 0.07658097892999649, -0.02170419506728649, -0.017535794526338577, -0.0023135687224566936, -0.02017999440431595, -0.03218791261315346, 0.044082410633563995, -0.02016211859881878, -0.026101257652044296, 0.031240448355674744, -0.028441371396183968, -0.001294570043683052, 0.03847278654575348, -0.054113488644361496, 0.007016910705715418, 0.046889398247003555, -0.0625050961971283, 0.03547975420951843, 0.01232975348830223, -0.010747051797807217, 0.021318010985851288, -0.029304904863238335, -0.10215144604444504, -0.06290816515684128, -0.017596498131752014, 0.011727001518011093, 0.0031226500868797302, -0.03701167553663254, -0.002661376725882292, -0.052231643348932266, -0.021828753873705864, 0.00764610106125474, 0.048054300248622894, 0.06743702292442322, -0.03499184548854828, 0.04885405674576759, -0.013917440548539162, -0.016592450439929962, -0.03227968513965607, -0.06632870435714722, -0.06967975199222565, -0.004304911941289902, 0.06369100511074066, -0.027007345110177994, 0.03162667155265808, -0.006087641231715679, -0.012333688326179981, 0.032595761120319366, 0.006096458528190851, 0.015310049057006836, 0.04711367189884186, -0.019963406026363373, -0.028713587671518326, -0.05210835859179497, 0.012944481335580349, 0.05000085383653641, -0.02541274018585682, -0.02853383682668209, -0.033444520086050034, -0.06107822060585022, -0.04104707017540932, -0.04042373597621918, -0.006393542047590017, -0.053221195936203, -0.040570393204689026, 0.03426838293671608, 0.008519977331161499, 0.007512739859521389, 0.008577818050980568, -0.009618254378437996, 0.010975942946970463, 0.01865530014038086, 0.030396435409784317, 0.012940511107444763, 0.014957936480641365, 0.03749781847000122, -0.01754716970026493, 0.01933438330888748, 0.012764327228069305, -0.021401451900601387, -0.03144558146595955, -0.03515993058681488, -0.22315439581871033, -0.005368560552597046, -0.03659602254629135, -0.0057927388697862625, 0.07202859222888947, -0.02885911613702774, 0.06600618362426758, -0.04194682091474533, -0.003243427025154233, -0.009204389527440071, 0.014554484747350216, 0.009731669910252094, 0.019489703699946404, 0.048816852271556854, 0.0039540003053843975, 0.029774021357297897, 0.008509396575391293, -0.055392779409885406, 0.01172756589949131, 0.02360379323363304, 0.04973505437374115, -0.021197786554694176, -0.018921393901109695, 0.038557685911655426, -0.0035082825925201178, 0.05115963891148567, -0.037675678730010986, -0.04156337305903435, -0.048687878996133804, -0.029966088011860847, 0.00033731356961652637, -0.012054299004375935, 0.016189727932214737, 0.00043165433453395963, 0.047299910336732864, -0.012874600477516651, 0.042005907744169235, -0.04476955160498619, -0.02442513220012188, 0.0040313140489161015, -0.02039690874516964, -0.015027493238449097, 0.0074937790632247925, -0.008679335936903954, 0.058864179998636246, 0.005343572702258825, -0.009013754315674305, -0.011516328901052475, 0.001866756472736597, 0.07445041090250015, -0.034561771899461746, 0.00522543815895915, -0.03609907254576683, -0.002211145590990782, -0.009805196896195412, -0.011028431355953217, -0.019191594794392586, 0.033821772783994675, -0.01505616307258606, 0.018437812104821205, 0.02776443026959896, -0.02405177801847458, 0.01792777143418789, -0.06657695025205612, -0.021328672766685486, -0.05025682598352432, -0.06605278700590134, -0.0790354460477829, 0.033528413623571396, 0.024986108765006065, -0.02311204932630062, 0.04725990071892738, 0.00545918382704258, -0.0950104221701622, -0.004088959656655788, -0.021529633551836014, -0.009902837686240673, -0.00672282325103879, -0.027126777917146683, 0.032326169312000275, -0.023546291515231133, -0.054176218807697296, 0.0202694870531559, 0.03215201571583748, 0.04396364092826843, -0.032684896141290665, 0.01349593698978424, -0.03954539820551872, -0.026268554851412773, -0.03618944063782692, 0.03137560188770294, -0.05820212885737419, -0.010044753551483154, 0.008992014452815056, 0.004346818197518587, 0.04605676978826523, 0.02635408379137516, 0.01823948323726654, 0.02947458252310753, 0.021755758672952652, 0.0220708716660738, -0.04788251221179962, 0.021380268037319183, -0.09878706187009811, 0.016304418444633484, -0.010791406966745853, -0.0592774860560894, -0.008367745205760002, 0.009879982098937035, -0.012748449109494686, 0.018473105505108833, 0.04066629335284233, -0.0072451443411409855, -0.018370185047388077, -0.0019090828718617558, -0.08004748076200485, 0.011913753114640713, 0.013465029187500477, 0.039776504039764404, -0.03053463064134121, -0.02326164022088051, 0.027939295396208763, -0.011070748791098595, 0.002700203564018011, -0.08480596542358398, -0.021458595991134644, 0.03297523781657219, 0.0031777839176356792, 0.006290587596595287, -0.014004470780491829, 0.0013803819892928004, 0.060048095881938934, 0.030960211530327797, 0.0315278060734272, -0.0012796786613762379, 0.020092429593205452, -0.060928065329790115, -0.030097058042883873, 0.0410144068300724, 0.016410116106271744, 0.023970521986484528, -0.01415571104735136, -0.0019168099388480186, 0.029312724247574806, 0.02861667238175869, 0.01802745833992958, 0.009547069668769836, -0.06116050109267235, -0.001929114107042551, 0.002828935394063592, 0.0126276183873415, 0.014572891406714916, 0.012421728111803532, -0.04882892221212387, -0.026208721101284027, 0.013341543264687061, 0.05561760067939758, 0.009973084554076195, -0.00784172210842371, -0.03691422939300537, -0.009869687259197235, -0.02020398899912834, 0.009424351155757904, 0.027166856452822685, 0.005169911775738001, 0.03498789668083191, 0.028504235669970512, 0.0008807876147329807, 0.01716606505215168, 0.036822639405727386, 0.0194492619484663, 0.0009492498938925564, -0.015705527737736702, -0.012332017533481121, 0.012469829991459846, 0.00012095934653189033, -0.006121946964412928, -0.0054848333820700645, 0.02810096926987171, 0.020952114835381508, -0.036055561155080795, -0.0004528329591266811, 0.027595076709985733, 0.07980433106422424, 0.04077432304620743, 0.0038927108980715275, -0.004761960357427597, -0.026939356699585915, 0.01754739321768284, 0.03636154159903526, -0.012616788037121296, -0.009742794558405876, -0.010481982491910458, 0.014281121082603931, -0.04472266510128975, -0.07153518497943878, -0.018415730446577072, 0.08780651539564133, -0.02244679443538189, 0.044482968747615814, -0.006715224124491215, 0.016414551064372063, 0.006195804104208946, 0.009625602513551712, 0.02863599918782711, -0.0683584213256836, 0.018427180126309395, 0.042050350457429886, -0.01763065718114376, 0.011330830864608288, -0.0003917887224815786, -0.04664502292871475, -0.022576406598091125, 0.005762957967817783, 0.021549345925450325, -0.02041938155889511, -0.017624631524086, 0.0170668363571167, 0.028934627771377563, -0.02662327140569687, 0.0733732283115387, -0.005787467584013939, 0.049041081219911575, -0.02259020321071148, -0.005222362000495195, 0.0328281968832016, 0.021286968141794205, 0.02645081840455532, 0.036344077438116074, -0.012265489436686039, 0.043446023017168045, -0.0014241025783121586, -0.00045992471859790385, 0.07440043240785599, 0.02983289770781994, -0.006408883258700371, -0.03209290653467178, 0.03687548637390137, -0.027988187968730927, -0.0002974926319438964, -0.04518663510680199, 0.04983138665556908, -0.03110530413687229, -0.010575750842690468, -0.004712588153779507, 0.01895720511674881, -0.051162488758563995, -0.007287656422704458, 0.008458046242594719, 0.024080708622932434, 0.0009042227757163346, 0.05068455636501312, -0.03705901280045509, -0.020251920446753502, 0.027780378237366676, -0.011053936555981636, -0.03637506812810898, -0.019390124827623367, -0.04831096529960632, 0.04051554948091507, -0.014904865995049477, 0.04117370769381523, 0.022332146763801575, 0.046947263181209564, 0.05576874688267708, 0.03297748789191246, -0.017228582873940468, -0.02685241959989071, 0.04581920802593231, -0.07163593173027039, -0.024877460673451424, -0.04180864244699478, 0.02180873416364193, 0.05276650935411453, 0.016126276925206184, -0.05384964495897293, 0.010660474188625813, -0.019964948296546936, -0.02606016956269741, -0.05495915189385414, -0.04941161349415779, 0.012132610194385052, -0.01564796455204487, 0.013565012253820896, -0.003082107985392213, -0.035655029118061066, -0.029636859893798828, -0.00540965236723423, -0.05129729211330414, -0.03969559445977211, -0.005959750153124332, 0.051602769643068314, -0.03992736339569092, 0.00891136284917593, -0.021730804815888405, 0.0015014978125691414, 0.03281891718506813, 0.05227094143629074, -0.017936358228325844, 0.013061235658824444, -0.019610488787293434, 0.05731070414185524, 0.016403086483478546, -0.01783239282667637, -0.0022318626288324594, 0.010610419325530529, -0.0024300958029925823, -0.06397660076618195, -0.056529462337493896, 0.03768710419535637, -0.05871693417429924, -0.012380641885101795, 0.04067687690258026, 0.014758593402802944, -0.04886897653341293, -0.020995033904910088, -0.03628517687320709, -0.03294797241687775, -0.021360304206609726, 0.01624816656112671, -0.004904067609459162, -0.009875906631350517, 0.10497263073921204, 0.015007280744612217, 0.01693601906299591, 0.033136799931526184, 0.025227464735507965, 0.044182054698467255, 0.035976797342300415, 0.05887757986783981, 0.040768813341856, -0.0017350638518109918, 0.017124420031905174, 0.04727795347571373, -0.03583121299743652, -0.05373213067650795, 0.021547803655266762, -0.001574004185386002, -0.019373198971152306, 0.009694156236946583, -0.023553386330604553, 0.08833619952201843, 0.041365914046764374, 0.05148443207144737, 0.005429798271507025, 0.047358088195323944, -0.03521363064646721, -0.012006671167910099, 0.03665146604180336, 0.018184145912528038, 0.002930261194705963, -8.680779137648642e-05, -0.04490873962640762, -0.047432634979486465, -0.013008288107812405, 0.029185783118009567, -0.0046829828061163425, 0.01793152280151844, -0.030345749109983444, 0.007752645295113325, -0.004900859668850899, -0.02047930285334587, 0.05940624326467514, -0.020302463322877884, -0.020411154255270958, -0.026302186772227287, 0.06783444434404373, -0.003818182973191142, 0.050097428262233734, -0.027386249974370003, -0.013812785036861897, -0.022550465539097786, -0.05840802937746048, 0.020875228568911552, 0.008514470420777798, -0.00648832879960537, 0.008218121714890003, -0.026871448382735252, -0.04865983501076698, 0.01689307577908039, 0.0007635245565325022, -0.0128190191462636, -0.06114697456359863, -0.04619479551911354, -0.039787158370018005, -0.06475969403982162, -0.05272328853607178, -0.03093002177774906, -0.024846374988555908, -0.039552923291921616, 0.0008227932266891003, -0.032651592046022415, 0.025529539212584496, -0.000985340098850429, -0.061124470084905624, 0.00010518097406020388, 0.046938952058553696, 0.012403263710439205, -0.008975682780146599, 0.03698495030403137, 0.027020828798413277, -0.02773343026638031, -0.03807247057557106, 0.002372988499701023, 0.028669558465480804, 0.06283267587423325, 0.024217741563916206, -0.014601273462176323, -0.07928242534399033, 0.015998659655451775, 0.04607560858130455, -0.039965659379959106, -0.07344517856836319, 0.023277057334780693, 0.030572712421417236, -0.02690768614411354, 0.023785730823874474, 0.014249006286263466, 0.001376671832986176, -0.00010631557961460203, -0.004797130823135376, 0.028475016355514526, 0.00753021240234375, 0.04771833121776581, -0.019372889772057533, 0.060972362756729126, 0.05750765651464462, -0.00025507606915198267, -0.021594295278191566, -0.0011974428780376911, 0.002934895223006606, -0.0033523146994411945, -0.027081891894340515, -0.003973581362515688, -0.015083643607795238, -0.12957310676574707, 0.028962932527065277, -0.005364888813346624, -0.017765022814273834, -0.052933067083358765, -0.015078256838023663, -0.044117845594882965, 0.05681441351771355, 0.008867544122040272, -0.03756917640566826, 0.019577793776988983, 0.005565046798437834, -0.02694188989698887, -0.04186512902379036, -0.004255374893546104, 0.019039280712604523, 0.042225297540426254, -0.030362233519554138, -0.04399663954973221, -0.004923097789287567, -0.057285141199827194, 0.027866914868354797, 0.011554466560482979, 0.055711839348077774, 0.02949312888085842], 'Classification': [0.010433563031256199, -0.0067024026066064835, -0.022009117528796196, -0.012002316303551197, 0.05149343982338905, 0.046368129551410675, 0.011723983101546764, -0.0023853271268308163, -0.014973337762057781, -0.01734401285648346, 0.007848570123314857, 0.046065185219049454, -0.09957379847764969, 0.052904315292835236, -0.0024159294553101063, 0.0639677569270134, 0.06862808763980865, 0.013782470487058163, -0.0012008670018985868, 0.0326286256313324, 0.002613846445456147, -0.021890386939048767, -0.0030973958782851696, -0.003574567614123225, -0.016729891300201416, -0.008194062858819962, -0.011656997725367546, 0.012839220464229584, -0.035570863634347916, -0.009901667945086956, 0.044235993176698685, 0.02370648831129074, -0.002572410274296999, 0.0011677166912704706, 0.018518874421715736, 0.038513585925102234, -0.025006694719195366, -0.02997657284140587, -0.013106168247759342, 0.008074989542365074, -0.003367591416463256, -0.03627016395330429, -0.00035183780710212886, 0.04790043458342552, -0.08008980751037598, 0.02497933618724346, -0.09906147420406342, 0.017405984923243523, -0.016282424330711365, -0.03902849927544594, -0.05388183891773224, -0.0003990761179011315, -0.010096820071339607, -0.015728391706943512, 0.04975631833076477, 0.0354144424200058, -0.03590212017297745, -0.08629701286554337, 0.017170580103993416, -0.025858644396066666, 0.027318643406033516, -0.00678240554407239, 0.042236000299453735, -0.008233971893787384, 0.01649310812354088, 0.0228907261043787, 0.02030949480831623, 0.05112408101558685, -0.061357658356428146, -0.016172846779227257, 0.017803894355893135, 0.005436547100543976, -0.04885796830058098, -0.017743900418281555, -0.014786799438297749, -0.038672737777233124, -0.01707758940756321, -0.011426904238760471, 0.05089222267270088, 0.034782785922288895, 0.02525053359568119, 0.06751887500286102, -0.005147250834852457, 0.02042265608906746, -0.017819948494434357, -0.02507653459906578, -0.05778491124510765, -0.023851241916418076, -0.04006606340408325, 0.042582638561725616, 0.02864614874124527, -0.03158409520983696, 0.03158436715602875, 0.07390690594911575, -0.00757035193964839, 0.005110477097332478, 0.011541166342794895, -0.032033368945121765, 0.01788223907351494, -0.00041782253538258374, -0.06861615180969238, -0.003758807433769107, -0.00975059811025858, 0.0034440052695572376, -0.07425441592931747, -0.023122893646359444, 0.003359061200171709, 0.0041418359614908695, -0.013069041073322296, -0.007491552736610174, -0.025526734068989754, -0.0022348384372889996, -0.021651746705174446, -0.000525919662322849, -0.07229014486074448, 0.05490151420235634, -0.0005924455472268164, -0.04649829864501953, -0.003640275215730071, -0.0071516018360853195, 0.05062258616089821, 0.03631766512989998, -0.04358730465173721, 0.08503282070159912, 0.03851375728845596, 0.032765332609415054, -0.01334985438734293, 0.037170909345149994, 0.02745959348976612, -0.03842433914542198, -0.007909567095339298, 0.04903201386332512, 0.028357332572340965, 0.0011494708014652133, -0.03312694653868675, -0.002749857259914279, 0.002180129988119006, 0.03035801649093628, 0.03529135882854462, 0.018324464559555054, 0.014237784780561924, -0.01850299723446369, -0.023893890902400017, 0.03648669272661209, 0.04170044884085655, 0.02815619856119156, -0.039550941437482834, -0.011866413056850433, -0.005037205759435892, 0.04745962843298912, -0.06665202975273132, -0.013336253352463245, -0.0014078750973567367, -0.02382187731564045, 0.005821824073791504, 0.021600347012281418, 0.016099542379379272, 0.012622350826859474, -0.045649196952581406, -0.021302297711372375, 0.021189244464039803, 0.019728612154722214, 0.013194079510867596, 0.049816686660051346, 0.0071003735065460205, -0.04032604768872261, 0.07357785850763321, 0.040436092764139175, -0.02999807335436344, 0.0223378948867321, -0.050116606056690216, -0.05915222689509392, 0.05820354074239731, -0.021669181063771248, -0.006286673713475466, -0.021774105727672577, 0.07234034687280655, -0.01915258727967739, 0.05347994714975357, -0.0056939683854579926, -0.1018800362944603, 0.03924151882529259, 0.019900744780898094, 0.0020814011804759502, -0.01763170212507248, -0.041587475687265396, 0.08379209041595459, 0.023853536695241928, 0.03829648718237877, 0.02554393745958805, -0.04183504357933998, -0.03312019258737564, 0.0072770435363054276, -0.004561262205243111, 0.06978245824575424, 0.006492838263511658, 0.014854290522634983, 0.03499862179160118, 0.000384469487471506, 0.013201907277107239, -0.01864355243742466, -0.008215569891035557, 0.020754195749759674, -0.03233910724520683, -0.061696700751781464, 0.004862051457166672, 0.05029996857047081, -0.03666827082633972, 0.018630804494023323, 0.03153867647051811, -0.0413530208170414, -0.0014830755535513163, 0.010963650420308113, -0.02271461673080921, 0.040970925241708755, 0.06906963139772415, 0.015665819868445396, -0.0018430995987728238, -0.026752056553959846, -0.039709046483039856, -0.007175199221819639, 0.02685939148068428, -0.05421106889843941, -0.011579516343772411, -0.007404484786093235, 0.11617002636194229, 0.08943479508161545, -0.030389664694666862, -0.0057048737071454525, -0.015136927366256714, -0.0004899315536022186, -0.024655306711792946, 0.03024119883775711, -0.02527933567762375, -0.06298794597387314, 0.016983594745397568, -0.029225923120975494, -0.03471541032195091, 0.02811313606798649, -0.04511691629886627, -0.003119220957159996, 0.048240043222904205, -0.07795554399490356, 0.038383059203624725, 0.03362598642706871, -0.008896734565496445, 0.011430106125772, -0.012830732390284538, -0.08668089658021927, -0.049968328326940536, -0.03152625635266304, 0.015084873884916306, -0.026416253298521042, -0.05650268867611885, 0.009703840129077435, -0.057906415313482285, -0.02522187866270542, 0.0020284622441977262, 0.06394263356924057, 0.046586211770772934, -0.03174375370144844, 0.05970393493771553, -0.03477253392338753, -0.004083894193172455, -0.022746853530406952, -0.07781504094600677, -0.06608112156391144, -0.017130490392446518, 0.06459171324968338, -0.044787243008613586, 0.042957715690135956, 0.025602664798498154, -0.00999221857637167, 0.0058561526238918304, 0.0161176398396492, 0.017620522528886795, 0.048257652670145035, -0.017989346757531166, -0.01318223774433136, -0.030495094135403633, -0.007924405857920647, 0.048325732350349426, -0.0189810823649168, -0.010861893184483051, -0.035419706255197525, -0.035409681499004364, -0.010755886323750019, -0.05298363417387009, -0.031020982190966606, -0.011486575938761234, -0.016583161428570747, 0.0408998504281044, 0.004028208553791046, 0.0005457630613818765, 0.029036175459623337, -0.01886059157550335, 0.00803693849593401, 0.021209176629781723, 0.011026395484805107, 0.04954374209046364, 0.006118652876466513, 0.06925199180841446, -0.01259344071149826, -0.0017257496947422624, -0.0038995437789708376, -0.022807452827692032, -0.0005634405533783138, -0.02021203003823757, -0.23438961803913116, -0.020974230021238327, -0.02807093784213066, 0.011967751197516918, 0.03574136272072792, -0.020517578348517418, 0.05249868333339691, -0.03411492332816124, -0.00013300000864546746, -0.007288292516022921, -0.0008810352883301675, 0.011213565245270729, 0.03398091346025467, 0.02479623444378376, 0.02029312215745449, 0.009214218705892563, -0.035893797874450684, -0.05072399601340294, 0.014661377295851707, 0.04012320935726166, 0.003979629836976528, -0.033147912472486496, -0.028333107009530067, 0.045164428651332855, -0.04783115163445473, 0.05337008461356163, -0.00887303613126278, -0.040968459099531174, -0.04815676435828209, -0.0474320724606514, 0.013369732536375523, -0.01985616236925125, 0.03618103265762329, 0.002825068775564432, 0.03371318057179451, -0.03918824344873428, 0.03067062795162201, -0.023480793461203575, -0.043635085225105286, -0.020757058635354042, 0.0055904695764184, -0.021957503631711006, 0.008641800843179226, 0.0071259718388319016, 0.06931602209806442, 0.0067278798669576645, -0.03378589451313019, -0.026421865448355675, 0.013652373105287552, 0.10464932769536972, -0.023893101140856743, -0.0005364572862163186, -0.030793657526373863, -0.0008735160226933658, -0.00608500000089407, 0.009901176206767559, -0.028884364292025566, 0.03559762239456177, -0.016366830095648766, 0.010194255970418453, 0.012616666033864021, -0.023121196776628494, -0.00567837106063962, -0.056670475751161575, -0.009075172245502472, -0.046885181218385696, -0.06728608906269073, -0.06916721165180206, 0.029514586552977562, 0.038002777844667435, -0.029648253694176674, 0.0628284215927124, -0.05173792317509651, -0.08489207178354263, 0.005356780719012022, -0.035859741270542145, -0.020151371136307716, -0.005801015999168158, -0.029448376968503, 0.05018838867545128, -0.012389922514557838, -0.0564018115401268, 0.007150876335799694, 0.006179578602313995, 0.019513558596372604, -0.05216403678059578, 0.010186019353568554, -0.010471327230334282, -0.008770047686994076, -0.028294868767261505, 0.019293177872896194, -0.001786129316315055, -0.0290729608386755, 0.034258294850587845, 0.012372581288218498, 0.05290757492184639, -0.014396118000149727, 0.03819112479686737, 0.03936843201518059, 0.04771479591727257, 0.03183402121067047, -0.02726445160806179, -0.005157178267836571, -0.07447399199008942, 0.012467417865991592, -0.007265571970492601, -0.04816639795899391, -0.040883272886276245, 0.04548183083534241, -0.0037995532620698214, 0.008831179700791836, 0.00910930335521698, 0.009174136444926262, -0.029873143881559372, 0.03598753362894058, -0.05599552020430565, 0.009927037172019482, 0.013800038956105709, 0.041245877742767334, -0.018586043268442154, -0.021138999611139297, 0.0450434610247612, -0.028028657659888268, -0.018246032297611237, -0.05217079073190689, -0.0344831719994545, 0.011343316175043583, -0.00797364767640829, 0.0002864165580831468, -0.033423230051994324, 0.009622272104024887, 0.03752363845705986, 0.008993910625576973, 0.03407393768429756, 0.03134077414870262, 0.03607692942023277, -0.0630645677447319, -0.025295784696936607, 0.015900205820798874, -0.002146955346688628, 0.012677962891757488, -0.023926246911287308, 0.02121938392519951, 0.05579652264714241, 0.05477013438940048, 0.016269905492663383, -0.006321851164102554, -0.05800340697169304, 0.032481707632541656, -0.02882472239434719, 0.013584674336016178, 0.01742963306605816, 0.004330179654061794, -0.05675254762172699, 0.007312478963285685, 0.012459371238946915, 0.049582961946725845, 0.051488690078258514, -0.009527384303510189, -0.03607266768813133, -0.005927842576056719, -0.02886202000081539, 0.050490956753492355, -0.012206146493554115, 0.03445485234260559, 0.07163750380277634, 0.029880300164222717, -0.0008996891556307673, -0.00021932210074737668, 0.04093371704220772, 0.017212986946105957, 0.0005332378786988556, -0.003828663844615221, 0.01938898116350174, -0.004862894769757986, -0.006864862982183695, 0.02066037990152836, 0.03137248381972313, -7.523519889218733e-05, 0.039508648216724396, -0.047854017466306686, -0.04838593676686287, 0.012962342239916325, 0.055537380278110504, 0.07033710926771164, 0.023234674707055092, 0.006658595986664295, -0.04662001505494118, -0.0013828814262524247, 0.01559634692966938, -0.025588320568203926, 0.015779396519064903, 0.0007064319797791541, 0.021930377930402756, -0.032878048717975616, -0.08846739679574966, -0.005390767939388752, 0.06854190677404404, -0.017224565148353577, -0.00801174622029066, -0.005315242800861597, 0.025887535884976387, -0.012628274038434029, -0.009482028894126415, 0.03628270700573921, -0.07177568227052689, 0.01092144101858139, 0.004389522131532431, -0.027743063867092133, 0.010154527612030506, 0.005898096598684788, -0.058775704354047775, -0.027713486924767494, -0.016768913716077805, 0.003607615130022168, -0.004534181207418442, -0.028405066579580307, 0.020216234028339386, 0.014777532778680325, -0.02790440246462822, 0.03633475303649902, 0.005233899690210819, 0.04159572720527649, -0.021266182884573936, -0.011337978765368462, 0.04564554989337921, 0.043859269469976425, 0.02079618349671364, 0.03988192230463028, 0.014591673389077187, 0.047209691256284714, -0.005712749436497688, -0.007971301674842834, 0.04352929815649986, -0.007513631135225296, -0.012012876570224762, -0.004596403334289789, 0.011255526915192604, 0.016232840716838837, 0.0468827486038208, -0.017125898972153664, 0.032300546765327454, -0.03801128640770912, -0.026616226881742477, -0.010755726136267185, 0.017484789714217186, -0.017100907862186432, -0.005247662775218487, -0.001274663140065968, 0.012917457148432732, 0.006786284502595663, 0.03447756543755531, -0.03495756536722183, -0.04739098623394966, 0.0499635711312294, -0.020349599421024323, -0.019218891859054565, -0.01338478084653616, -0.0033444880973547697, 0.03549021854996681, -0.009304620325565338, 0.031118016690015793, -0.005346958991140127, 0.022980274632573128, 0.05904698744416237, 0.017067983746528625, -0.03115970827639103, -0.033683743327856064, 0.030392277985811234, -0.03471286594867706, -0.012367521412670612, -0.04093240201473236, -0.017121989279985428, 0.06944317370653152, -0.01200238149613142, -0.05295797064900398, -0.0007862786878831685, -0.03747604414820671, -0.004868744872510433, -0.050375353544950485, -0.04185197502374649, 0.03582219034433365, -0.020196227356791496, 0.007999182678759098, -0.011455491185188293, -0.03869079798460007, -0.023649118840694427, -0.0008037307998165488, -0.047575369477272034, -0.01406185980886221, 0.009505324065685272, 0.056070972234010696, -0.03359878435730934, 0.021855415776371956, 0.019889118149876595, -0.021084103733301163, 0.02820315584540367, 0.03737325593829155, -0.002852517180144787, 0.01690261997282505, -0.03885405510663986, 0.0817498043179512, 0.01664312370121479, -0.03738086298108101, -0.012790133245289326, 0.01779025048017502, 0.011262601241469383, -0.05273573473095894, -0.03476494550704956, 0.022059623152017593, -0.03218168765306473, -0.02546089142560959, 0.05314324423670769, 0.019809044897556305, -0.06490685045719147, -0.03359561786055565, -0.006769686937332153, -0.06373918801546097, -0.016859445720911026, 0.020453354343771935, 0.02916773594915867, -0.0035741112660616636, 0.10300060361623764, 0.030824461951851845, 0.03243699669837952, 0.05983363464474678, -0.014629167504608631, 0.025763945654034615, 0.02960810251533985, 0.05838818848133087, 0.057555053383111954, -0.005961006507277489, 0.011074144393205643, 0.053621239960193634, -0.02114352025091648, -0.0480831116437912, 0.008448831737041473, 0.0003000818833243102, -0.012228584848344326, 0.03159945458173752, -0.01206960529088974, 0.06953814625740051, 0.04327991232275963, 0.07232372462749481, -0.005316106136888266, 0.06867904216051102, 0.0038380236364901066, 0.016934696584939957, 0.015494978986680508, 0.00834596622735262, 0.008941383101046085, 0.013357511721551418, -0.056655123829841614, -0.05105865001678467, -0.016016196459531784, 0.014482653699815273, -0.011292396113276482, -0.019067075103521347, -0.0642615407705307, 0.01742718368768692, -0.00567552400752902, -0.0011982278665527701, 0.06398338079452515, 0.011648785322904587, -0.03972052037715912, -0.027038995176553726, 0.04223593324422836, -0.0007361717871390283, 0.03814971074461937, -0.005738642532378435, 0.0006699527730233967, -0.018005207180976868, -0.058507680892944336, 0.021847635507583618, -0.0025358472485095263, -0.026056474074721336, 0.0367928147315979, -0.01312465500086546, -0.05193573608994484, 0.015619205310940742, 0.0035176563542336226, -0.010073588229715824, -0.05499858781695366, -0.04933584854006767, -0.02930375561118126, -0.06663241237401962, -0.038995757699012756, 0.014181558042764664, -0.008171159774065018, -0.0042438749223947525, -0.020167123526334763, -0.009440720081329346, 0.03220174461603165, -0.02226809598505497, -0.06583677977323532, 0.0028203960973769426, 0.03765042498707771, 0.04347574710845947, -0.016254033893346786, 0.008497411385178566, 0.051020968705415726, -0.012099661864340305, -0.009080319665372372, -0.002703528618440032, -0.026945574209094048, 0.04636025428771973, 0.01662629283964634, 0.02195059321820736, -0.09023772180080414, 0.023414848372340202, 0.03192337602376938, -0.017796767875552177, -0.07379792630672455, 0.015075357630848885, 0.03527744486927986, 0.006836462765932083, 0.02082640305161476, 0.020403657108545303, -0.013650565408170223, -0.007438312284648418, -0.011157114990055561, -0.01648329757153988, 0.004517251159995794, 0.05935639888048172, -0.032279226928949356, 0.06460797786712646, 0.05697810649871826, -0.01934303529560566, -0.03245171904563904, 0.018420077860355377, 0.017491387203335762, -0.015109092928469181, -0.044975411146879196, -0.023772601038217545, -0.012106156907975674, -0.1302037537097931, 0.025586608797311783, 0.000878538005053997, -0.009597410447895527, -0.04519057646393776, 0.015145648270845413, -0.051967423409223557, 0.061806272715330124, -0.010399242863059044, -0.05899007245898247, 0.013948410749435425, 0.027692357078194618, -0.06968783587217331, -0.06321746855974197, -0.027343932539224625, -0.01239478588104248, 0.034339066594839096, -0.03584076091647148, -0.040542323142290115, -0.016771147027611732, -0.03623517230153084, 0.04076700285077095, 0.0442388691008091, 0.03845049813389778, 0.004810219630599022]}, text_id_to_ref_doc_id={'type_model': 'None', 'Clustering': 'None', 'Regression': 'None', 'Classification': 'None'}, metadata_dict={'type_model': {'vector_source_id': 'type_model', 'triplet_source_id': '3c7b74bd-ec22-490e-babf-1acee89236bf', '_node_type': 'TextNode', 'document_id': 'None', 'doc_id': 'None', 'ref_doc_id': 'None'}, 'Clustering': {'vector_source_id': 'Clustering', 'triplet_source_id': '3c7b74bd-ec22-490e-babf-1acee89236bf', '_node_type': 'TextNode', 'document_id': 'None', 'doc_id': 'None', 'ref_doc_id': 'None'}, 'Regression': {'vector_source_id': 'Regression', 'triplet_source_id': '3c7b74bd-ec22-490e-babf-1acee89236bf', '_node_type': 'TextNode', 'document_id': 'None', 'doc_id': 'None', 'ref_doc_id': 'None'}, 'Classification': {'vector_source_id': 'Classification', 'triplet_source_id': '3c7b74bd-ec22-490e-babf-1acee89236bf', '_node_type': 'TextNode', 'document_id': 'None', 'doc_id': 'None', 'ref_doc_id': 'None'}})), 'image': SimpleVectorStore(stores_text=False, is_embedding_query=True, data=SimpleVectorStoreData(embedding_dict={}, text_id_to_ref_doc_id={}, metadata_dict={}))}, graph_store=<llama_index.core.graph_stores.simple.SimpleGraphStore object at 0x000001F929E3BA40>, property_graph_store=<llama_index.core.graph_stores.simple_labelled.SimplePropertyGraphStore object at 0x000001F938E1EC60>)\n"
     ]
    }
   ],
   "source": [
    "print(onto_storage_context)"
   ]
  },
  {
   "cell_type": "code",
   "execution_count": 29,
   "id": "7314a0db",
   "metadata": {},
   "outputs": [],
   "source": [
    "# save index to disk\n",
    "onto_index.set_index_id(\"onto_index\")\n",
    "onto_index.storage_context.persist(\"onto_graph\")\n",
    "onto_storage_context.persist(persist_dir=\"onto_graph\")"
   ]
  }
 ],
 "metadata": {
  "kernelspec": {
   "display_name": "base",
   "language": "python",
   "name": "python3"
  },
  "language_info": {
   "codemirror_mode": {
    "name": "ipython",
    "version": 3
   },
   "file_extension": ".py",
   "mimetype": "text/x-python",
   "name": "python",
   "nbconvert_exporter": "python",
   "pygments_lexer": "ipython3",
   "version": "3.12.4"
  }
 },
 "nbformat": 4,
 "nbformat_minor": 5
}
